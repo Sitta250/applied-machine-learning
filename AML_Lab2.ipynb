{
  "cells": [
    {
      "cell_type": "markdown",
      "id": "1d2f255a",
      "metadata": {
        "id": "1d2f255a"
      },
      "source": [
        "# `Applied Machine Learning`\n",
        "\n",
        "*The rules and guidelines can be found at the Rules section at the end of the LAB.\n",
        "\n",
        "## `Lab 2. Numpy and Pandas basics`\n",
        "\n",
        "In this lesson we will discuss the most popular Python libraries for data preprocessing, manipulation and computation. Those task are extremely important to process data before training specific Machine Learning model. Moreover the proper Explanatory Data Analysis (**EDA**) can simplify training process and greatly increase final performance of the model. So, skill of manipulating with raw data is vital for proper Machine Leaning pipeline."
      ]
    },
    {
      "cell_type": "code",
      "execution_count": 1,
      "id": "db2c179e",
      "metadata": {
        "ExecuteTime": {
          "end_time": "2024-02-06T07:52:13.350593Z",
          "start_time": "2024-02-06T07:52:08.269915Z"
        },
        "id": "db2c179e",
        "outputId": "de347236-7112-455a-d6bc-150b61bd9839"
      },
      "outputs": [],
      "source": [
        "! pip install numpy pandas matplotlib matplotlib_inline > /dev/null"
      ]
    },
    {
      "cell_type": "code",
      "execution_count": 2,
      "id": "3a6791c5",
      "metadata": {
        "ExecuteTime": {
          "end_time": "2024-02-06T07:52:14.917819Z",
          "start_time": "2024-02-06T07:52:13.354903Z"
        },
        "id": "3a6791c5"
      },
      "outputs": [],
      "source": [
        "import numpy as np\n",
        "import pandas as pd\n",
        "import matplotlib.pyplot as plt\n",
        "\n",
        "\n",
        "# This module allows to automatically draw all images in vector format\n",
        "#   to increase their readability\n",
        "import matplotlib_inline\n",
        "matplotlib_inline.backend_inline.set_matplotlib_formats('svg')"
      ]
    },
    {
      "cell_type": "markdown",
      "id": "35de9f59",
      "metadata": {
        "id": "35de9f59"
      },
      "source": [
        "### `Numpy. Matrix representation`"
      ]
    },
    {
      "cell_type": "markdown",
      "id": "df5bfb06",
      "metadata": {
        "id": "df5bfb06"
      },
      "source": [
        "One of the basics objects in Machine Learning is a matrix. Usually we operate with matrixes of data points, matrixes of trained features and so on. It is extremely important to manipulate with those matrixes and perform basic operations like matrix multiplication, addition etc. fast and accurate.\n",
        "\n",
        "One of the ways to represent matrix in Python is to use lists and tuples:"
      ]
    },
    {
      "cell_type": "code",
      "execution_count": null,
      "id": "35def994",
      "metadata": {
        "ExecuteTime": {
          "end_time": "2024-02-06T07:52:14.930832Z",
          "start_time": "2024-02-06T07:52:14.920900Z"
        },
        "id": "35def994",
        "outputId": "449c5f16-85b9-4a7e-b198-74c366674518"
      },
      "outputs": [
        {
          "data": {
            "text/plain": [
              "([[1, 2, 3], [4, 5, 6], [7, 8, 9]], [[9, 8, 7], [6, 5, 4], [3, 2, 1]])"
            ]
          },
          "execution_count": 3,
          "metadata": {},
          "output_type": "execute_result"
        }
      ],
      "source": [
        "A = [\n",
        "    [1, 2, 3],\n",
        "    [4, 5, 6],\n",
        "    [7, 8, 9]\n",
        "]\n",
        "\n",
        "B = [\n",
        "    [9, 8, 7],\n",
        "    [6, 5, 4],\n",
        "    [3, 2, 1]\n",
        "]\n",
        "\n",
        "A, B"
      ]
    },
    {
      "cell_type": "markdown",
      "id": "92e3517d",
      "metadata": {
        "id": "92e3517d"
      },
      "source": [
        "However, this approach has major drawbacks:\n",
        "1. Lack of element-wise and complex matrix operations (multiplication, inversion, etc). You need to implement those operations from scratch which can be quite boring and prone to errors\n",
        "2. Extremely poor performance due to unoptimized implementation of operations (more precisely lack of vectorization)\n",
        "\n",
        "`Numpy` library can mitigate those drawbacks and provide the most necessary operations. Moreover this library has such advantages as:\n",
        "1. Operations with multidimensional matrixes\n",
        "2. Basic matrix operations\n",
        "3. Extremely fast and optimized\n",
        "4. Compatible with most of the other science Python modules like scipy, sklearn, pytorch, etc."
      ]
    },
    {
      "cell_type": "markdown",
      "id": "7f227c4f",
      "metadata": {
        "ExecuteTime": {
          "end_time": "2024-02-05T18:51:43.394436Z",
          "start_time": "2024-02-05T18:51:43.391801Z"
        },
        "id": "7f227c4f"
      },
      "source": [
        "#### `Construction`"
      ]
    },
    {
      "cell_type": "markdown",
      "id": "e2cf0a23",
      "metadata": {
        "id": "e2cf0a23"
      },
      "source": [
        "You can create numpy matrix in many ways. All of them are based on the [`np.array`](https://numpy.org/doc/2.1/reference/generated/numpy.array.html) type. `Numpy` also have [`np.matrix`](https://numpy.org/devdocs/reference/generated/numpy.matrix.html) data type. However, this type is very inconvinient to use and has lots of limitations."
      ]
    },
    {
      "cell_type": "code",
      "execution_count": null,
      "id": "c866545f",
      "metadata": {
        "ExecuteTime": {
          "end_time": "2024-02-06T07:52:14.947703Z",
          "start_time": "2024-02-06T07:52:14.943054Z"
        },
        "id": "c866545f",
        "outputId": "502be5a0-389f-45b3-d054-aace2f7eed10"
      },
      "outputs": [
        {
          "data": {
            "text/plain": [
              "array([[0., 0., 0.],\n",
              "       [0., 0., 0.]])"
            ]
          },
          "execution_count": 5,
          "metadata": {},
          "output_type": "execute_result"
        }
      ],
      "source": [
        "# Empty array aka filled with arbitrary values\n",
        "np.empty(shape=[2, 3])"
      ]
    },
    {
      "cell_type": "code",
      "execution_count": null,
      "id": "d2bf88a8",
      "metadata": {
        "ExecuteTime": {
          "end_time": "2024-02-06T07:52:14.955495Z",
          "start_time": "2024-02-06T07:52:14.950109Z"
        },
        "id": "d2bf88a8",
        "outputId": "d4a80815-5ab9-4909-e6e0-7c3e87a51d8e"
      },
      "outputs": [
        {
          "data": {
            "text/plain": [
              "array([[0., 0., 0.],\n",
              "       [0., 0., 0.]])"
            ]
          },
          "execution_count": 6,
          "metadata": {},
          "output_type": "execute_result"
        }
      ],
      "source": [
        "# Array of all zeros\n",
        "np.zeros([2, 3])"
      ]
    },
    {
      "cell_type": "code",
      "execution_count": null,
      "id": "1a0b1820",
      "metadata": {
        "ExecuteTime": {
          "end_time": "2024-02-06T07:52:14.964788Z",
          "start_time": "2024-02-06T07:52:14.958459Z"
        },
        "id": "1a0b1820",
        "outputId": "478cbca2-618e-43a2-8355-ab3876d72ef2"
      },
      "outputs": [
        {
          "data": {
            "text/plain": [
              "array([[1., 1., 1.],\n",
              "       [1., 1., 1.]])"
            ]
          },
          "execution_count": 7,
          "metadata": {},
          "output_type": "execute_result"
        }
      ],
      "source": [
        "# Array of all ones\n",
        "np.ones([2, 3])"
      ]
    },
    {
      "cell_type": "code",
      "execution_count": null,
      "id": "67a444ef",
      "metadata": {
        "ExecuteTime": {
          "end_time": "2024-02-06T07:52:14.972073Z",
          "start_time": "2024-02-06T07:52:14.967249Z"
        },
        "id": "67a444ef",
        "outputId": "9dc43ad0-7658-4313-d277-ee4b7af44365"
      },
      "outputs": [
        {
          "data": {
            "text/plain": [
              "array([[3., 3., 3.],\n",
              "       [3., 3., 3.]])"
            ]
          },
          "execution_count": 8,
          "metadata": {},
          "output_type": "execute_result"
        }
      ],
      "source": [
        "# Array filled with specific values\n",
        "np.full([2, 3], fill_value=3.0)"
      ]
    },
    {
      "cell_type": "markdown",
      "id": "e9e24cd1",
      "metadata": {
        "ExecuteTime": {
          "end_time": "2024-02-05T18:34:19.358392Z",
          "start_time": "2024-02-05T18:34:19.353319Z"
        },
        "id": "e9e24cd1"
      },
      "source": [
        "Every numpy matrix has an attribute `.shape` that gives information of matrix size along each dimension:"
      ]
    },
    {
      "cell_type": "code",
      "execution_count": null,
      "id": "04c1b35d",
      "metadata": {
        "ExecuteTime": {
          "end_time": "2024-02-06T07:52:14.981147Z",
          "start_time": "2024-02-06T07:52:14.974788Z"
        },
        "id": "04c1b35d",
        "outputId": "9f2c26d6-4c4e-4c1c-bfa5-d81bc0d2b7d8"
      },
      "outputs": [
        {
          "data": {
            "text/plain": [
              "(array([1., 1., 1., 1., 1., 1., 1., 1., 1., 1.]), (10,))"
            ]
          },
          "execution_count": 9,
          "metadata": {},
          "output_type": "execute_result"
        }
      ],
      "source": [
        "a = np.ones([10])\n",
        "a, a.shape"
      ]
    },
    {
      "cell_type": "code",
      "execution_count": null,
      "id": "a2482a9c",
      "metadata": {
        "ExecuteTime": {
          "end_time": "2024-02-06T07:52:14.999552Z",
          "start_time": "2024-02-06T07:52:14.992276Z"
        },
        "id": "a2482a9c",
        "outputId": "09893cba-50b6-4c23-fb74-6a729a8ee06e"
      },
      "outputs": [
        {
          "data": {
            "text/plain": [
              "(array([[0., 0., 0.],\n",
              "        [0., 0., 0.],\n",
              "        [0., 0., 0.],\n",
              "        [0., 0., 0.]]),\n",
              " (4, 3))"
            ]
          },
          "execution_count": 10,
          "metadata": {},
          "output_type": "execute_result"
        }
      ],
      "source": [
        "b = np.zeros([4, 3])\n",
        "b, b.shape"
      ]
    },
    {
      "cell_type": "markdown",
      "id": "3b3ec249",
      "metadata": {
        "id": "3b3ec249"
      },
      "source": [
        "Also you can construct matrixes of the same shape that the existing one using `*_like` methods:"
      ]
    },
    {
      "cell_type": "code",
      "execution_count": null,
      "id": "49feb876",
      "metadata": {
        "ExecuteTime": {
          "end_time": "2024-02-06T07:52:15.011014Z",
          "start_time": "2024-02-06T07:52:15.003000Z"
        },
        "id": "49feb876",
        "outputId": "e651493e-9707-4d0a-c66f-9eca1691a4f6"
      },
      "outputs": [
        {
          "data": {
            "text/plain": [
              "(array([[0., 0., 0.],\n",
              "        [0., 0., 0.],\n",
              "        [0., 0., 0.],\n",
              "        [0., 0., 0.]]),\n",
              " array([[1., 1., 1.],\n",
              "        [1., 1., 1.],\n",
              "        [1., 1., 1.],\n",
              "        [1., 1., 1.]]))"
            ]
          },
          "execution_count": 11,
          "metadata": {},
          "output_type": "execute_result"
        }
      ],
      "source": [
        "a = np.zeros([4, 3])\n",
        "b = np.ones_like(a)\n",
        "\n",
        "a, b"
      ]
    },
    {
      "cell_type": "markdown",
      "id": "47a74e59",
      "metadata": {
        "id": "47a74e59"
      },
      "source": [
        "Then, you can smoothly convert matrixes in list representation to numpy matrixes and vise versa:"
      ]
    },
    {
      "cell_type": "code",
      "execution_count": null,
      "id": "864ca090",
      "metadata": {
        "ExecuteTime": {
          "end_time": "2024-02-06T07:52:15.021180Z",
          "start_time": "2024-02-06T07:52:15.013712Z"
        },
        "id": "864ca090",
        "outputId": "52b3b545-164a-4257-b567-23ed5a75eb05"
      },
      "outputs": [
        {
          "data": {
            "text/plain": [
              "(array([[1, 2, 3],\n",
              "        [4, 5, 6],\n",
              "        [7, 8, 9]]),\n",
              " [[1, 2, 3], [4, 5, 6], [7, 8, 9]])"
            ]
          },
          "execution_count": 12,
          "metadata": {},
          "output_type": "execute_result"
        }
      ],
      "source": [
        "C = [\n",
        "    [1, 2, 3],\n",
        "    [4, 5, 6],\n",
        "    [7, 8, 9]\n",
        "]\n",
        "d = np.array(C)\n",
        "E = d.tolist()\n",
        "\n",
        "d, E"
      ]
    },
    {
      "cell_type": "markdown",
      "id": "b7275e49",
      "metadata": {
        "id": "b7275e49"
      },
      "source": [
        "Numpy also provides some base matrix constructors:"
      ]
    },
    {
      "cell_type": "code",
      "execution_count": null,
      "id": "00cafe4a",
      "metadata": {
        "ExecuteTime": {
          "end_time": "2024-02-06T07:52:15.030205Z",
          "start_time": "2024-02-06T07:52:15.024831Z"
        },
        "id": "00cafe4a",
        "outputId": "49e2224d-e25c-4c38-b182-8bf059d3bf88"
      },
      "outputs": [
        {
          "data": {
            "text/plain": [
              "array([2, 3, 4, 5, 6, 7, 8, 9])"
            ]
          },
          "execution_count": 13,
          "metadata": {},
          "output_type": "execute_result"
        }
      ],
      "source": [
        "# Creates vector of sequential numbers. In this example from 2 to 10\n",
        "np.arange(2, 10)"
      ]
    },
    {
      "cell_type": "code",
      "execution_count": 3,
      "id": "e90aaf06",
      "metadata": {
        "ExecuteTime": {
          "end_time": "2024-02-06T07:52:15.038972Z",
          "start_time": "2024-02-06T07:52:15.033048Z"
        },
        "id": "e90aaf06",
        "outputId": "8e489934-0b2d-4236-d2d9-a32664e15376"
      },
      "outputs": [
        {
          "data": {
            "text/plain": [
              "(array([0.  , 0.25, 0.5 , 0.75, 1.  ]),\n",
              " array([ 1.        ,  1.77827941,  3.16227766,  5.62341325, 10.        ]))"
            ]
          },
          "execution_count": 3,
          "metadata": {},
          "output_type": "execute_result"
        }
      ],
      "source": [
        "# Divide given interval in specified number of chunks linearly or logarithmically\n",
        "np.linspace(0.0, 1.0, 5), np.logspace(0.0, 1.0, 5)\n",
        "#np.linspace(start, stop, num)\n",
        "#np.logspace(start, stop, num, base=10.0) – Creates num evenly spaced points on a logarithmic scale between base**start and base**stop."
      ]
    },
    {
      "cell_type": "markdown",
      "id": "1d01463b",
      "metadata": {
        "ExecuteTime": {
          "end_time": "2024-02-05T18:35:39.712781Z",
          "start_time": "2024-02-05T18:35:39.707727Z"
        },
        "id": "1d01463b"
      },
      "source": [
        "<font color='brown'>**Exercise 1.** Create a matrix `result` of shape $50 \\times 30$ filled with value 3.0:</font>"
      ]
    },
    {
      "cell_type": "code",
      "execution_count": 4,
      "id": "598d891f",
      "metadata": {
        "ExecuteTime": {
          "end_time": "2024-02-06T07:52:15.044322Z",
          "start_time": "2024-02-06T07:52:15.041369Z"
        },
        "id": "598d891f"
      },
      "outputs": [
        {
          "data": {
            "text/plain": [
              "array([[3., 3., 3., ..., 3., 3., 3.],\n",
              "       [3., 3., 3., ..., 3., 3., 3.],\n",
              "       [3., 3., 3., ..., 3., 3., 3.],\n",
              "       ...,\n",
              "       [3., 3., 3., ..., 3., 3., 3.],\n",
              "       [3., 3., 3., ..., 3., 3., 3.],\n",
              "       [3., 3., 3., ..., 3., 3., 3.]])"
            ]
          },
          "execution_count": 4,
          "metadata": {},
          "output_type": "execute_result"
        }
      ],
      "source": [
        "### your code here\n",
        "result = np.full([50,30], fill_value=3.0)\n",
        "result"
      ]
    },
    {
      "cell_type": "markdown",
      "id": "a350019a",
      "metadata": {
        "id": "a350019a"
      },
      "source": [
        "<font color='brown'>**Exercise 2.** Determine and check what shape will `np.array([[1], [2]])` have?</font>"
      ]
    },
    {
      "cell_type": "code",
      "execution_count": 7,
      "id": "db792b97",
      "metadata": {
        "ExecuteTime": {
          "end_time": "2024-02-06T07:52:15.049590Z",
          "start_time": "2024-02-06T07:52:15.046814Z"
        },
        "id": "db792b97"
      },
      "outputs": [
        {
          "data": {
            "text/plain": [
              "(2, 1)"
            ]
          },
          "execution_count": 7,
          "metadata": {},
          "output_type": "execute_result"
        }
      ],
      "source": [
        "### your code here\n",
        "result2 = np.array([[1], [2]])\n",
        "result2.shape"
      ]
    },
    {
      "cell_type": "markdown",
      "id": "eeb7da5e",
      "metadata": {
        "id": "eeb7da5e"
      },
      "source": [
        "Some important numpy array creation parameters:\n",
        "\n",
        "- `shape` - a list or tuple with the values of the array dimensions<br><br>\n",
        "\n",
        "- `dtype` - indication of the type of array elements, if the array creator is taken on the basis of objects from Python, then there must be a conversion from the type of these objects to the specified type<br><br>"
      ]
    },
    {
      "cell_type": "code",
      "execution_count": null,
      "id": "aed9d40c",
      "metadata": {
        "ExecuteTime": {
          "end_time": "2024-02-06T07:52:15.057636Z",
          "start_time": "2024-02-06T07:52:15.051905Z"
        },
        "id": "aed9d40c",
        "outputId": "0db6d2f2-3f02-45d2-b1df-ea566d136c83"
      },
      "outputs": [
        {
          "data": {
            "text/plain": [
              "(array([1, 2, 3], dtype=int32), array([1., 2., 3.], dtype=float32))"
            ]
          },
          "execution_count": 17,
          "metadata": {},
          "output_type": "execute_result"
        }
      ],
      "source": [
        "a, b = np.array([1, 2, 3], dtype=np.int32), np.array([1, 2, 3], dtype=np.float32)\n",
        "a, b"
      ]
    },
    {
      "cell_type": "markdown",
      "id": "ed180bb3",
      "metadata": {
        "id": "ed180bb3"
      },
      "source": [
        "`reshape` allows you to change the dimensions of an array **without changing the total number of elements**:"
      ]
    },
    {
      "cell_type": "code",
      "execution_count": null,
      "id": "09aba0e2",
      "metadata": {
        "ExecuteTime": {
          "end_time": "2024-02-06T07:52:15.065833Z",
          "start_time": "2024-02-06T07:52:15.060619Z"
        },
        "id": "09aba0e2",
        "outputId": "a7932561-7d95-4169-daf7-de0f823e4632"
      },
      "outputs": [
        {
          "name": "stdout",
          "output_type": "stream",
          "text": [
            "[[[0. 0.]\n",
            "  [0. 0.]\n",
            "  [0. 0.]]\n",
            "\n",
            " [[0. 0.]\n",
            "  [0. 0.]\n",
            "  [0. 0.]]] (2, 3, 2)\n",
            "[[0. 0. 0. 0. 0. 0. 0. 0. 0. 0. 0. 0.]] (1, 12)\n"
          ]
        }
      ],
      "source": [
        "a = np.zeros([2, 3, 2])\n",
        "print(a, a.shape)\n",
        "\n",
        "b = a.reshape((1, 2 * 3 * 2))\n",
        "print(b, b.shape)"
      ]
    },
    {
      "cell_type": "markdown",
      "id": "be921097",
      "metadata": {
        "ExecuteTime": {
          "end_time": "2024-02-05T18:52:16.146140Z",
          "start_time": "2024-02-05T18:52:16.143509Z"
        },
        "id": "be921097"
      },
      "source": [
        "#### `Indexing`"
      ]
    },
    {
      "cell_type": "markdown",
      "id": "08d6e6c7",
      "metadata": {
        "id": "08d6e6c7"
      },
      "source": [
        "Numpy provides rich interface for indexing and slicing:\n",
        "\n",
        "- Everything is similar to lists, you can make slices and use negative indices\n",
        "- Indexes and slices in multidimensional arrays do not need to be separated by square brackets\n",
        "- Detailed description: https://docs.scipy.org/doc/numpy/reference/arrays.indexing.html"
      ]
    },
    {
      "cell_type": "code",
      "execution_count": null,
      "id": "a9f29a23",
      "metadata": {
        "ExecuteTime": {
          "end_time": "2024-02-06T07:52:15.074266Z",
          "start_time": "2024-02-06T07:52:15.068113Z"
        },
        "id": "a9f29a23",
        "outputId": "8ef2cbb7-b18f-4e3f-f9aa-37f87e5a8b01"
      },
      "outputs": [
        {
          "name": "stdout",
          "output_type": "stream",
          "text": [
            "[[1 2 3]\n",
            " [3 4 5]] \n",
            "\n",
            "[1 2 3] \n",
            "\n",
            "[1 2 3] \n",
            "\n",
            "2 \n",
            "\n",
            "4 \n",
            "\n",
            "4 \n",
            "\n",
            "[1 2]\n"
          ]
        }
      ],
      "source": [
        "a = np.array([[1, 2, 3], [3, 4, 5]])\n",
        "\n",
        "print(a, '\\n')\n",
        "print(a[0], '\\n')\n",
        "print(a[0, 0:100500], '\\n')\n",
        "print(a[0][1], '\\n')\n",
        "print(a[-1][-2], '\\n')\n",
        "print(a[-1, -2], '\\n')\n",
        "print(a[0, 0:-1])"
      ]
    },
    {
      "cell_type": "markdown",
      "id": "fea799dd",
      "metadata": {
        "id": "fea799dd"
      },
      "source": [
        "An important difference from Python lists: slicing returns a **view**, not a copy! This allows you to assign values to submatrices:"
      ]
    },
    {
      "cell_type": "code",
      "execution_count": null,
      "id": "82976e10",
      "metadata": {
        "ExecuteTime": {
          "end_time": "2024-02-06T07:52:15.081701Z",
          "start_time": "2024-02-06T07:52:15.077473Z"
        },
        "id": "82976e10",
        "outputId": "3ac28d64-b722-4833-86b9-234e16f596dd"
      },
      "outputs": [
        {
          "name": "stdout",
          "output_type": "stream",
          "text": [
            "[[1 2 3]\n",
            " [3 4 5]] \n",
            "\n",
            "[[ 1 10  3]\n",
            " [ 3 10  5]] \n",
            "\n"
          ]
        }
      ],
      "source": [
        "a = np.array([[1, 2, 3], [3, 4, 5]])\n",
        "print(a, '\\n')\n",
        "\n",
        "a[:, 1] = 10\n",
        "print(a)"
      ]
    },
    {
      "cell_type": "markdown",
      "id": "f73810cb",
      "metadata": {
        "id": "f73810cb"
      },
      "source": [
        "Indexing can be done on a logical array of the same size:"
      ]
    },
    {
      "cell_type": "code",
      "execution_count": null,
      "id": "4e32c6c0",
      "metadata": {
        "ExecuteTime": {
          "end_time": "2024-02-06T07:52:15.088571Z",
          "start_time": "2024-02-06T07:52:15.083922Z"
        },
        "id": "4e32c6c0",
        "outputId": "5de3a08c-57ab-48d0-8ba0-3b7379233fba"
      },
      "outputs": [
        {
          "name": "stdout",
          "output_type": "stream",
          "text": [
            "[0 1 2 3 4 5 6 7 8 9] \n",
            "\n",
            "[ True False  True False  True False  True False  True False] \n",
            "\n",
            "[0 2 4 6 8] \n",
            "\n"
          ]
        }
      ],
      "source": [
        "a = np.arange(10)\n",
        "i = np.array([j % 2 == 0 for j in range(10)])\n",
        "\n",
        "print(a, '\\n')\n",
        "print(i, '\\n')\n",
        "print(a[i], '\\n')"
      ]
    },
    {
      "cell_type": "markdown",
      "id": "d5c30b2a",
      "metadata": {
        "id": "d5c30b2a"
      },
      "source": [
        "Using the `where` function, you can find the indexes of elements specified by a mask:"
      ]
    },
    {
      "cell_type": "code",
      "execution_count": null,
      "id": "82b835ee",
      "metadata": {
        "ExecuteTime": {
          "end_time": "2024-02-06T07:52:15.096253Z",
          "start_time": "2024-02-06T07:52:15.091310Z"
        },
        "id": "82b835ee",
        "outputId": "1145b09e-15d0-4e2b-ec1c-107da7783074"
      },
      "outputs": [
        {
          "data": {
            "text/plain": [
              "(array([5, 6, 7, 8, 9]),)"
            ]
          },
          "execution_count": 22,
          "metadata": {},
          "output_type": "execute_result"
        }
      ],
      "source": [
        "np.where(a > 4)"
      ]
    },
    {
      "cell_type": "markdown",
      "id": "ae3c4501",
      "metadata": {
        "id": "ae3c4501"
      },
      "source": [
        "<font color='brown'> **Exercise 3.** You are given two vectors of the same length: `a` и `b`. Leave in these vectors only those elements that correspond to the positions of non-zero elements in both vectors. </font>"
      ]
    },
    {
      "cell_type": "code",
      "execution_count": 14,
      "id": "2b6e5b8c",
      "metadata": {
        "ExecuteTime": {
          "end_time": "2024-02-06T07:52:15.102179Z",
          "start_time": "2024-02-06T07:52:15.098664Z"
        },
        "id": "2b6e5b8c"
      },
      "outputs": [],
      "source": [
        "a = np.array([0, 1, 0, 2, 3])\n",
        "b = np.array([1, 5, 2, 0, 6])"
      ]
    },
    {
      "cell_type": "code",
      "execution_count": 24,
      "id": "eb15fe8b",
      "metadata": {
        "ExecuteTime": {
          "end_time": "2024-02-06T07:52:15.108328Z",
          "start_time": "2024-02-06T07:52:15.105424Z"
        },
        "id": "eb15fe8b"
      },
      "outputs": [
        {
          "name": "stdout",
          "output_type": "stream",
          "text": [
            "(array([1, 4]),)\n",
            "[1 3]\n",
            "[5 6]\n"
          ]
        }
      ],
      "source": [
        "### your code here\n",
        "indices = np.where((a!=0)&( b!=0))\n",
        "a = a[indices]\n",
        "b = b[indices]\n",
        "print(indices)\n",
        "print(a)\n",
        "print(b)\n",
        "\n"
      ]
    },
    {
      "cell_type": "code",
      "execution_count": 25,
      "id": "4171afc3",
      "metadata": {
        "deletable": false,
        "editable": false,
        "id": "4171afc3",
        "run_control": {
          "frozen": true
        }
      },
      "outputs": [],
      "source": [
        "# Check yourself\n",
        "assert a.tolist() == [1, 3]\n",
        "assert b.tolist() == [5, 6]"
      ]
    },
    {
      "cell_type": "markdown",
      "id": "490df5b3",
      "metadata": {
        "id": "490df5b3"
      },
      "source": [
        "Complex indexing allows to get elements of an array in positions determined by another array. More precisely: for each dimension, arrays of identical sizes are supplied, the elements of which correspond to the indices of each dimension. Then, the output will be an array of the size of these arrays, the elements of which will correspond to the elements of the original array, taken at the points corresponding to the supplied arrays."
      ]
    },
    {
      "cell_type": "code",
      "execution_count": null,
      "id": "399f2091",
      "metadata": {
        "ExecuteTime": {
          "end_time": "2024-02-06T07:52:15.116231Z",
          "start_time": "2024-02-06T07:52:15.110988Z"
        },
        "id": "399f2091",
        "outputId": "9c1f06f6-0f6f-49da-dc50-afbb84fe3dc1"
      },
      "outputs": [
        {
          "data": {
            "text/plain": [
              "array([[1, 2, 3],\n",
              "       [4, 5, 6]])"
            ]
          },
          "execution_count": 25,
          "metadata": {},
          "output_type": "execute_result"
        }
      ],
      "source": [
        "X = np.array([[1, 2, 3], [4, 5, 6]])\n",
        "X"
      ]
    },
    {
      "cell_type": "code",
      "execution_count": null,
      "id": "c368eded",
      "metadata": {
        "ExecuteTime": {
          "end_time": "2024-02-06T07:52:15.124336Z",
          "start_time": "2024-02-06T07:52:15.118850Z"
        },
        "id": "c368eded",
        "outputId": "bb688528-9310-4d16-dfe7-29d83a03fa7d"
      },
      "outputs": [
        {
          "data": {
            "text/plain": [
              "(array([2, 6]), array([2, 1]))"
            ]
          },
          "execution_count": 26,
          "metadata": {},
          "output_type": "execute_result"
        }
      ],
      "source": [
        "X[[0, 1], [1, 2]], X[[0, 0], [1, 0]]"
      ]
    },
    {
      "cell_type": "code",
      "execution_count": 27,
      "id": "6e288ed3",
      "metadata": {
        "ExecuteTime": {
          "end_time": "2024-02-06T07:52:15.132588Z",
          "start_time": "2024-02-06T07:52:15.127135Z"
        },
        "id": "6e288ed3",
        "outputId": "842635d3-5f4a-4386-d341-243a4e676ff0"
      },
      "outputs": [
        {
          "data": {
            "text/plain": [
              "array([[[ 0,  1,  2,  3],\n",
              "        [ 4,  5,  6,  7]],\n",
              "\n",
              "       [[ 8,  9, 10, 11],\n",
              "        [12, 13, 14, 15]],\n",
              "\n",
              "       [[16, 17, 18, 19],\n",
              "        [20, 21, 22, 23]]])"
            ]
          },
          "execution_count": 27,
          "metadata": {},
          "output_type": "execute_result"
        }
      ],
      "source": [
        "Y = np.arange(24).reshape((3, 2, 4))\n",
        "Y"
      ]
    },
    {
      "cell_type": "code",
      "execution_count": 28,
      "id": "95e523cc",
      "metadata": {
        "ExecuteTime": {
          "end_time": "2024-02-06T07:52:15.155096Z",
          "start_time": "2024-02-06T07:52:15.149579Z"
        },
        "id": "95e523cc",
        "outputId": "c58dc0fe-d12a-40c8-fd0f-1f03a856e111"
      },
      "outputs": [
        {
          "data": {
            "text/plain": [
              "array([[10, 14],\n",
              "       [ 1,  5]])"
            ]
          },
          "execution_count": 28,
          "metadata": {},
          "output_type": "execute_result"
        }
      ],
      "source": [
        "Y[[1, 0], :, [2, 1]]\n",
        "#first line means choose block [1] and block [0]\n",
        "#second line means keeps all row\n",
        "#third line means to choose column [2] and column[1] of each row"
      ]
    },
    {
      "cell_type": "markdown",
      "id": "48ec8aed",
      "metadata": {
        "id": "48ec8aed"
      },
      "source": [
        "#### `Arithmetic operations`"
      ]
    },
    {
      "cell_type": "markdown",
      "id": "72ffb806",
      "metadata": {
        "id": "72ffb806"
      },
      "source": [
        "- Arithmetic operations are generally element-wise and require the same size of operands<br>\n",
        "\n",
        "- But often NumPy can apply them to operands of different sizes using broadcasting, that is, rules for processing operands of different sizes<br><br>\n",
        "\n",
        "Examples of operations with arrays of the same size:"
      ]
    },
    {
      "cell_type": "code",
      "execution_count": null,
      "id": "32b5d889",
      "metadata": {
        "ExecuteTime": {
          "end_time": "2024-02-06T07:52:15.163355Z",
          "start_time": "2024-02-06T07:52:15.157723Z"
        },
        "id": "32b5d889",
        "outputId": "72800251-59d6-409e-edc7-dea3ce7af9ca"
      },
      "outputs": [
        {
          "name": "stdout",
          "output_type": "stream",
          "text": [
            "[[1 2 3]\n",
            " [4 5 6]\n",
            " [7 8 9]] \n",
            "\n",
            " [[1 0 0]\n",
            " [0 2 0]\n",
            " [0 0 3]] \n",
            "\n",
            " [[ 2  4  6]\n",
            " [ 8 10 12]\n",
            " [14 16 18]] \n",
            "\n",
            " [[ 2  2  3]\n",
            " [ 4  7  6]\n",
            " [ 7  8 12]]\n"
          ]
        }
      ],
      "source": [
        "A = [\n",
        "    [1, 2, 3],\n",
        "    [4, 5, 6],\n",
        "    [7, 8, 9],\n",
        "]\n",
        "\n",
        "B = [\n",
        "    [1, 0, 0],\n",
        "    [0, 2, 0],\n",
        "    [0, 0, 3],\n",
        "]\n",
        "\n",
        "A, B = np.array(A), np.array(B)\n",
        "\n",
        "print(A, '\\n\\n', B, '\\n\\n', 2 * A, '\\n\\n', A + B)"
      ]
    },
    {
      "cell_type": "code",
      "execution_count": null,
      "id": "ba7a8dbf",
      "metadata": {
        "ExecuteTime": {
          "end_time": "2024-02-06T07:52:15.171446Z",
          "start_time": "2024-02-06T07:52:15.165722Z"
        },
        "id": "ba7a8dbf",
        "outputId": "db37660d-af40-439c-f72e-06f31ae75ea5"
      },
      "outputs": [
        {
          "data": {
            "text/plain": [
              "(array([[ 0.84147098,  0.90929743,  0.14112001],\n",
              "        [-0.7568025 , -0.95892427, -0.2794155 ],\n",
              "        [ 0.6569866 ,  0.98935825,  0.41211849]]),\n",
              " array([[1, 2, 3],\n",
              "        [4, 5, 6],\n",
              "        [7, 8, 9]]),\n",
              " array([[1.        , 1.41421356, 1.73205081],\n",
              "        [2.        , 2.23606798, 2.44948974],\n",
              "        [2.64575131, 2.82842712, 3.        ]]),\n",
              " array([[False, False, False],\n",
              "        [ True,  True,  True],\n",
              "        [ True,  True,  True]]))"
            ]
          },
          "execution_count": 30,
          "metadata": {},
          "output_type": "execute_result"
        }
      ],
      "source": [
        "# Some popular element-wise operations\n",
        "np.sin(A), np.abs(A), A ** 0.5, A > 3"
      ]
    },
    {
      "cell_type": "code",
      "execution_count": null,
      "id": "a7a7ba5c",
      "metadata": {
        "ExecuteTime": {
          "end_time": "2024-02-06T07:52:15.179198Z",
          "start_time": "2024-02-06T07:52:15.174070Z"
        },
        "id": "a7a7ba5c",
        "outputId": "51782434-c5f7-4bdc-94e0-998527a4bfd5"
      },
      "outputs": [
        {
          "data": {
            "text/plain": [
              "(array([[0, 2, 3],\n",
              "        [4, 3, 6],\n",
              "        [7, 8, 6]]),\n",
              " array([[ 2,  2,  3],\n",
              "        [ 4,  7,  6],\n",
              "        [ 7,  8, 12]]),\n",
              " array([[ 1,  0,  0],\n",
              "        [ 0, 10,  0],\n",
              "        [ 0,  0, 27]]))"
            ]
          },
          "execution_count": 31,
          "metadata": {},
          "output_type": "execute_result"
        }
      ],
      "source": [
        "# Element-wise operations with two operands\n",
        "A - B, A + B, A * B"
      ]
    },
    {
      "cell_type": "code",
      "execution_count": null,
      "id": "380678e4",
      "metadata": {
        "ExecuteTime": {
          "end_time": "2024-02-06T07:52:15.189412Z",
          "start_time": "2024-02-06T07:52:15.182307Z"
        },
        "id": "380678e4",
        "outputId": "eda8b62b-8f1e-4b24-aaf5-edf80fef052e"
      },
      "outputs": [
        {
          "data": {
            "text/plain": [
              "array([[ 1,  4,  9],\n",
              "       [ 4, 10, 18],\n",
              "       [ 7, 16, 27]])"
            ]
          },
          "execution_count": 32,
          "metadata": {},
          "output_type": "execute_result"
        }
      ],
      "source": [
        "# Matrix multiplication\n",
        "A @ B"
      ]
    },
    {
      "cell_type": "markdown",
      "id": "8bc79440",
      "metadata": {
        "id": "8bc79440"
      },
      "source": [
        "#### `Broadcasting`"
      ]
    },
    {
      "cell_type": "markdown",
      "id": "6d43dc54",
      "metadata": {
        "id": "6d43dc54"
      },
      "source": [
        "Let us be given a matrix $X$ of size $5 \\times 5$ and a vector $y$ of length $5$. Let's say we want to add a vector to each row of the matrix."
      ]
    },
    {
      "cell_type": "code",
      "execution_count": null,
      "id": "a497c66a",
      "metadata": {
        "ExecuteTime": {
          "end_time": "2024-02-06T07:52:15.198898Z",
          "start_time": "2024-02-06T07:52:15.193020Z"
        },
        "id": "a497c66a",
        "outputId": "9607db0f-3671-4ba4-e15e-90e247dbcf1b"
      },
      "outputs": [
        {
          "data": {
            "text/plain": [
              "(array([[ 0,  1,  2,  3,  4],\n",
              "        [ 5,  6,  7,  8,  9],\n",
              "        [10, 11, 12, 13, 14],\n",
              "        [15, 16, 17, 18, 19],\n",
              "        [20, 21, 22, 23, 24]]),\n",
              " array([0, 1, 2, 3, 4]))"
            ]
          },
          "execution_count": 33,
          "metadata": {},
          "output_type": "execute_result"
        }
      ],
      "source": [
        "x = np.arange(25).reshape(5, 5)\n",
        "y = np.arange(5)\n",
        "\n",
        "x, y"
      ]
    },
    {
      "cell_type": "markdown",
      "id": "5cc08c28",
      "metadata": {
        "id": "5cc08c28"
      },
      "source": [
        "The naive way to solve the problem will work correctly!"
      ]
    },
    {
      "cell_type": "code",
      "execution_count": null,
      "id": "48a6db8e",
      "metadata": {
        "ExecuteTime": {
          "end_time": "2024-02-06T07:52:15.208123Z",
          "start_time": "2024-02-06T07:52:15.202118Z"
        },
        "id": "48a6db8e",
        "outputId": "4d3c239b-0f25-4062-d6f5-ceb26021f3ce"
      },
      "outputs": [
        {
          "data": {
            "text/plain": [
              "array([[ 0,  2,  4,  6,  8],\n",
              "       [ 5,  7,  9, 11, 13],\n",
              "       [10, 12, 14, 16, 18],\n",
              "       [15, 17, 19, 21, 23],\n",
              "       [20, 22, 24, 26, 28]])"
            ]
          },
          "execution_count": 34,
          "metadata": {},
          "output_type": "execute_result"
        }
      ],
      "source": [
        "x + y"
      ]
    },
    {
      "cell_type": "markdown",
      "id": "6cb8f5fd",
      "metadata": {
        "id": "6cb8f5fd"
      },
      "source": [
        "**But why?** Broadcasting rules:\n",
        "\n",
        "1. If two arrays have dimensions $(a_1, a_2, ..., a_n)$ and $(b_1, b_2, ..., b_n)$, respectively, then element-wise operations can be carried out between them if for each $i$ one of three conditions is met:\n",
        "    * $a_i = b_i$\n",
        "    * $a_i = 1$\n",
        "    * $b_i = 1$\n",
        "    \n",
        "2. If an element-wise operation is performed between arrays of different sizes, then leading dummy dimensions are added to the smaller array.\n",
        "\n",
        "Detailed description: http://docs.scipy.org/doc/numpy/user/basics.broadcasting.html"
      ]
    },
    {
      "cell_type": "markdown",
      "id": "5246a6cf",
      "metadata": {
        "id": "5246a6cf"
      },
      "source": [
        "Let's have a look on some examples of broadcasting:"
      ]
    },
    {
      "cell_type": "code",
      "execution_count": null,
      "id": "387fa59d",
      "metadata": {
        "ExecuteTime": {
          "end_time": "2024-02-06T07:52:15.217178Z",
          "start_time": "2024-02-06T07:52:15.211288Z"
        },
        "id": "387fa59d",
        "outputId": "98ea3b5f-7d16-4c57-e3b8-72a33bd5d2bf"
      },
      "outputs": [
        {
          "name": "stdout",
          "output_type": "stream",
          "text": [
            "[2 2] \n",
            "\n",
            "[[2 3]\n",
            " [4 5]] \n",
            "\n",
            "[[2 3]\n",
            " [4 5]]\n"
          ]
        }
      ],
      "source": [
        "# If the arrays are not equal along one of the dimensions,\n",
        "#    and one of them has this dimension of length 1,\n",
        "#    then it will be duplicated along this dimension:\n",
        "a = np.array([[1, 2], [3, 4]])\n",
        "b = np.array([1])\n",
        "c = np.array([1, 1])\n",
        "print(b + c, '\\n')\n",
        "print(a + b, '\\n')\n",
        "print(a + c)"
      ]
    },
    {
      "cell_type": "code",
      "execution_count": null,
      "id": "229efe58",
      "metadata": {
        "ExecuteTime": {
          "end_time": "2024-02-06T07:52:15.224336Z",
          "start_time": "2024-02-06T07:52:15.219773Z"
        },
        "id": "229efe58",
        "outputId": "16e75d39-967a-4369-d703-7cb70ca5dd4c"
      },
      "outputs": [
        {
          "name": "stdout",
          "output_type": "stream",
          "text": [
            "[[[2. 2. 2. 2.]\n",
            "  [2. 2. 2. 2.]\n",
            "  [2. 2. 2. 2.]]\n",
            "\n",
            " [[2. 2. 2. 2.]\n",
            "  [2. 2. 2. 2.]\n",
            "  [2. 2. 2. 2.]]]\n"
          ]
        }
      ],
      "source": [
        "# If the number of dimensions does not match,\n",
        "#    then the array that has fewer of them will be “stretched” on the left with dimensions of length 1:\n",
        "\n",
        "a = np.ones((2, 3, 4))\n",
        "b = np.ones(4)\n",
        "\n",
        "print(a + b) # here a.shape=(2, 3, 4) and b.shape is considered to be (1, 1, 4)"
      ]
    },
    {
      "cell_type": "markdown",
      "id": "80d9ef3c",
      "metadata": {
        "id": "80d9ef3c"
      },
      "source": [
        "Let's add a row vector to the array:"
      ]
    },
    {
      "cell_type": "code",
      "execution_count": null,
      "id": "aa74603c",
      "metadata": {
        "ExecuteTime": {
          "end_time": "2024-02-06T07:52:15.231730Z",
          "start_time": "2024-02-06T07:52:15.226725Z"
        },
        "id": "aa74603c",
        "outputId": "cc116525-c5d1-4b24-b189-9eb2302ad943"
      },
      "outputs": [
        {
          "data": {
            "text/plain": [
              "array([[2, 4, 6],\n",
              "       [5, 7, 9]])"
            ]
          },
          "execution_count": 37,
          "metadata": {},
          "output_type": "execute_result"
        }
      ],
      "source": [
        "a = np.array([[1, 2, 3], [4, 5, 6]])\n",
        "b = np.array([1, 2, 3])\n",
        "a + b"
      ]
    },
    {
      "cell_type": "markdown",
      "id": "1eaaa6de",
      "metadata": {
        "id": "1eaaa6de"
      },
      "source": [
        "Now let's try to add a column:"
      ]
    },
    {
      "cell_type": "code",
      "execution_count": 31,
      "id": "a5cae63a",
      "metadata": {
        "ExecuteTime": {
          "end_time": "2024-02-06T07:52:15.449519Z",
          "start_time": "2024-02-06T07:52:15.234496Z"
        },
        "id": "a5cae63a",
        "outputId": "df462df2-9895-4216-c219-cc5819a78ed8"
      },
      "outputs": [
        {
          "ename": "ValueError",
          "evalue": "operands could not be broadcast together with shapes (2,3) (2,) ",
          "output_type": "error",
          "traceback": [
            "\u001b[0;31m---------------------------------------------------------------------------\u001b[0m",
            "\u001b[0;31mValueError\u001b[0m                                Traceback (most recent call last)",
            "Cell \u001b[0;32mIn[31], line 3\u001b[0m\n\u001b[1;32m      1\u001b[0m a \u001b[38;5;241m=\u001b[39m np\u001b[38;5;241m.\u001b[39marray([[\u001b[38;5;241m1\u001b[39m, \u001b[38;5;241m2\u001b[39m, \u001b[38;5;241m3\u001b[39m], [\u001b[38;5;241m4\u001b[39m, \u001b[38;5;241m5\u001b[39m, \u001b[38;5;241m6\u001b[39m]])\n\u001b[1;32m      2\u001b[0m b \u001b[38;5;241m=\u001b[39m np\u001b[38;5;241m.\u001b[39marray([\u001b[38;5;241m1\u001b[39m, \u001b[38;5;241m2\u001b[39m])\n\u001b[0;32m----> 3\u001b[0m a \u001b[38;5;241m+\u001b[39m b\n",
            "\u001b[0;31mValueError\u001b[0m: operands could not be broadcast together with shapes (2,3) (2,) "
          ]
        }
      ],
      "source": [
        "a = np.array([[1, 2, 3], [4, 5, 6]])\n",
        "b = np.array([1, 2])\n",
        "a + b"
      ]
    },
    {
      "cell_type": "markdown",
      "id": "5c4439d1",
      "metadata": {
        "id": "5c4439d1"
      },
      "source": [
        "This error is expected because broadcasting rules are not satisfied.\n",
        "\n",
        "- The error occurred due to the fact that a line with the wrong size was added<br>\n",
        "\n",
        "- You need to convert the row to a column (add a dummy dimension) and then NumPy will understand how to work with it<br><br>\n",
        "\n",
        "To do this, we will use `reshape` (a good method, but far from the only one):\n"
      ]
    },
    {
      "cell_type": "code",
      "execution_count": 32,
      "id": "fcbe85e1",
      "metadata": {
        "ExecuteTime": {
          "end_time": "2024-02-06T07:52:29.753478Z",
          "start_time": "2024-02-06T07:52:29.748585Z"
        },
        "id": "fcbe85e1",
        "outputId": "1f85b489-4015-43d4-f346-3c09740d4b0b"
      },
      "outputs": [
        {
          "data": {
            "text/plain": [
              "array([[2, 3, 4],\n",
              "       [6, 7, 8]])"
            ]
          },
          "execution_count": 32,
          "metadata": {},
          "output_type": "execute_result"
        }
      ],
      "source": [
        "a + np.reshape(b, (2, 1))\n",
        "# b is now [[1],[2]] so '1' will add to first row of a and '2' for second row"
      ]
    },
    {
      "cell_type": "markdown",
      "id": "1ce932e8",
      "metadata": {
        "id": "1ce932e8"
      },
      "source": [
        "**You should always check your broadcast operations! You can easily run into trouble**"
      ]
    },
    {
      "cell_type": "markdown",
      "id": "ea8e8ea0",
      "metadata": {
        "id": "ea8e8ea0"
      },
      "source": [
        "<font color='brown'>**Exercise 4.** Which of these commands will fail?</font>\n",
        "\n",
        "1. `np.ones((2, 3)) + np.ones(3)`\n",
        "\n",
        "2. `np.ones(2) + np.ones((2, 3))`\n",
        "\n",
        "3. `np.zeros((4, 3)) + np.ones((4, 1))`\n",
        "\n",
        "4. `np.zeros((3, 4)) + np.ones((4, 3))`\n",
        "\n",
        "5. `np.zeros((1, 3, 5)) + np.zeros((1, 3))`\n",
        "\n",
        "6. `np.zeros((5, 3, 1)) + np.zeros((1, 5))`"
      ]
    },
    {
      "cell_type": "code",
      "execution_count": null,
      "id": "700dc02d",
      "metadata": {
        "ExecuteTime": {
          "end_time": "2024-02-06T07:52:30.692563Z",
          "start_time": "2024-02-06T07:52:30.690079Z"
        },
        "id": "700dc02d"
      },
      "outputs": [],
      "source": [
        "### your answer here\n",
        "np.ones(2) + np.ones((2, 3))\n",
        "np.zeros((3, 4)) + np.ones((4, 3))\n",
        "np.zeros((1, 3, 5)) + np.zeros((1, 3))"
      ]
    },
    {
      "cell_type": "markdown",
      "id": "253a2073",
      "metadata": {
        "id": "253a2073"
      },
      "source": [
        "<font color='brown'>**Exercise 5.** Let us be given a matrix $X$ of size $10 \\times 10$ and a column vector $y$ of length $10$. Get the `result` matrix obtained by adding the vector $y$ to each column of $X$ (without using loops). </font>"
      ]
    },
    {
      "cell_type": "code",
      "execution_count": 42,
      "id": "821df321",
      "metadata": {
        "ExecuteTime": {
          "end_time": "2024-02-06T07:52:31.281103Z",
          "start_time": "2024-02-06T07:52:31.277859Z"
        },
        "id": "821df321"
      },
      "outputs": [],
      "source": [
        "x = np.arange(100).reshape(10, 10)\n",
        "y = np.arange(10).reshape(10,1)"
      ]
    },
    {
      "cell_type": "code",
      "execution_count": 43,
      "id": "2aca63da",
      "metadata": {
        "ExecuteTime": {
          "end_time": "2024-02-06T07:52:31.478894Z",
          "start_time": "2024-02-06T07:52:31.476149Z"
        },
        "id": "2aca63da"
      },
      "outputs": [
        {
          "data": {
            "text/plain": [
              "array([[  0,   1,   2,   3,   4,   5,   6,   7,   8,   9],\n",
              "       [ 11,  12,  13,  14,  15,  16,  17,  18,  19,  20],\n",
              "       [ 22,  23,  24,  25,  26,  27,  28,  29,  30,  31],\n",
              "       [ 33,  34,  35,  36,  37,  38,  39,  40,  41,  42],\n",
              "       [ 44,  45,  46,  47,  48,  49,  50,  51,  52,  53],\n",
              "       [ 55,  56,  57,  58,  59,  60,  61,  62,  63,  64],\n",
              "       [ 66,  67,  68,  69,  70,  71,  72,  73,  74,  75],\n",
              "       [ 77,  78,  79,  80,  81,  82,  83,  84,  85,  86],\n",
              "       [ 88,  89,  90,  91,  92,  93,  94,  95,  96,  97],\n",
              "       [ 99, 100, 101, 102, 103, 104, 105, 106, 107, 108]])"
            ]
          },
          "execution_count": 43,
          "metadata": {},
          "output_type": "execute_result"
        }
      ],
      "source": [
        "## your code here\n",
        "result= x+y\n",
        "result"
      ]
    },
    {
      "cell_type": "code",
      "execution_count": 46,
      "id": "2537094b",
      "metadata": {
        "deletable": false,
        "editable": false,
        "id": "2537094b",
        "run_control": {
          "frozen": true
        }
      },
      "outputs": [
        {
          "data": {
            "text/plain": [
              "array([[  0,   1,   2,   3,   4,   5,   6,   7,   8,   9],\n",
              "       [ 11,  12,  13,  14,  15,  16,  17,  18,  19,  20],\n",
              "       [ 22,  23,  24,  25,  26,  27,  28,  29,  30,  31],\n",
              "       [ 33,  34,  35,  36,  37,  38,  39,  40,  41,  42],\n",
              "       [ 44,  45,  46,  47,  48,  49,  50,  51,  52,  53],\n",
              "       [ 55,  56,  57,  58,  59,  60,  61,  62,  63,  64],\n",
              "       [ 66,  67,  68,  69,  70,  71,  72,  73,  74,  75],\n",
              "       [ 77,  78,  79,  80,  81,  82,  83,  84,  85,  86],\n",
              "       [ 88,  89,  90,  91,  92,  93,  94,  95,  96,  97],\n",
              "       [ 99, 100, 101, 102, 103, 104, 105, 106, 107, 108]])"
            ]
          },
          "execution_count": 46,
          "metadata": {},
          "output_type": "execute_result"
        }
      ],
      "source": [
        "# Check yourself\n",
        "assert result[0][0] == 0\n",
        "for i in range(1, 10):\n",
        "    assert result[i][i-1] == 10 * i + (i - 1) * 2 + 1\n",
        "\n",
        "result"
      ]
    },
    {
      "cell_type": "markdown",
      "id": "9cafeaba",
      "metadata": {
        "id": "9cafeaba"
      },
      "source": [
        "#### `Transpose`"
      ]
    },
    {
      "cell_type": "markdown",
      "id": "cdb856fe",
      "metadata": {
        "id": "cdb856fe"
      },
      "source": [
        "- Let’s consider the case of two-dimensional matrices, for those who are interested in multidimensional matrices, study https://stackoverflow.com/questions/32034237/how-does-numpys-transpose-method-permute-the-axes-of-an-array\n",
        "- When transposing (like `reshape`), a reference to the same data is returned"
      ]
    },
    {
      "cell_type": "code",
      "execution_count": null,
      "id": "d014c20f",
      "metadata": {
        "ExecuteTime": {
          "end_time": "2024-02-06T07:52:32.228078Z",
          "start_time": "2024-02-06T07:52:32.223508Z"
        },
        "id": "d014c20f",
        "outputId": "56a304cb-f189-4896-8062-f30d44ff5c30"
      },
      "outputs": [
        {
          "name": "stdout",
          "output_type": "stream",
          "text": [
            "[[ 1  2  3  4]\n",
            " [ 5  6  7  8]\n",
            " [ 9 10 11 12]] \n",
            "\n",
            " [[ 1  5  9]\n",
            " [ 2  6 10]\n",
            " [ 3  7 11]\n",
            " [ 4  8 12]] \n",
            "\n",
            " [[ 1  5  9]\n",
            " [ 2  6 10]\n",
            " [ 3  7 11]\n",
            " [ 4  8 12]]\n"
          ]
        }
      ],
      "source": [
        "A = np.arange(1, 13).reshape(3, 4)\n",
        "print(A, '\\n\\n', A.T, '\\n\\n', A.transpose())"
      ]
    },
    {
      "cell_type": "markdown",
      "id": "8cd25087",
      "metadata": {
        "id": "8cd25087"
      },
      "source": [
        "#### `Aggregate functions`"
      ]
    },
    {
      "cell_type": "markdown",
      "id": "e1f7a1f2",
      "metadata": {
        "id": "e1f7a1f2"
      },
      "source": [
        "Numpy has a rich collection of reduction functions:"
      ]
    },
    {
      "cell_type": "code",
      "execution_count": null,
      "id": "532f7f0d",
      "metadata": {
        "ExecuteTime": {
          "end_time": "2024-02-06T07:52:32.859268Z",
          "start_time": "2024-02-06T07:52:32.852333Z"
        },
        "id": "532f7f0d",
        "outputId": "f2b2bdc6-b8ae-443a-b1e5-789cebd25223"
      },
      "outputs": [
        {
          "name": "stdout",
          "output_type": "stream",
          "text": [
            "Min element:          1\n",
            "Min element position: 0\n",
            "Max element:          4\n",
            "Mean:                 2.4444444444444446\n",
            "Sum:                  22\n",
            "Median:               3.0\n",
            "Cumulative sum:       [ 1  3  6 10 13 15 16 19 22]\n",
            "Cumulative product:   [   1    2    6   24   72  144  144  432 1296]\n"
          ]
        }
      ],
      "source": [
        "a = np.array([1, 2, 3, 4, 3, 2, 1, 3, 3])\n",
        "\n",
        "print('Min element:          {}'.format(np.min(a)))\n",
        "print('Min element position: {}'.format(np.argmin(a)))\n",
        "print('Max element:          {}'.format(np.max(a)))\n",
        "print('Mean:                 {}'.format(np.mean(a)))\n",
        "print('Sum:                  {}'.format(np.sum(a)))\n",
        "print('Median:               {}'.format(np.median(a)))\n",
        "print('Cumulative sum:       {}'.format(np.cumsum(a)))\n",
        "print('Cumulative product:   {}'.format(np.cumprod(a)))"
      ]
    },
    {
      "cell_type": "markdown",
      "id": "57637a22",
      "metadata": {
        "id": "57637a22"
      },
      "source": [
        "In the multidimensional case, the operation is applied to an array stretched into a vector (flatten):"
      ]
    },
    {
      "cell_type": "code",
      "execution_count": null,
      "id": "da5ba91e",
      "metadata": {
        "ExecuteTime": {
          "end_time": "2024-02-06T07:52:33.240246Z",
          "start_time": "2024-02-06T07:52:33.235623Z"
        },
        "id": "da5ba91e",
        "outputId": "2f3005fb-5b42-437f-c748-e4ac2136f72b"
      },
      "outputs": [
        {
          "name": "stdout",
          "output_type": "stream",
          "text": [
            "[[1 2 3]\n",
            " [4 3 2]\n",
            " [1 3 3]] \n",
            "\n",
            "4\n",
            "[ 1  3  6 10 13 15 16 19 22]\n"
          ]
        }
      ],
      "source": [
        "a = np.array([[1, 2, 3], [4, 3, 2], [1, 3, 3]])\n",
        "print(a, '\\n')\n",
        "print(np.max(a))\n",
        "print(np.cumsum(a))"
      ]
    },
    {
      "cell_type": "markdown",
      "id": "867625d4",
      "metadata": {
        "id": "867625d4"
      },
      "source": [
        "To work with certain dimensions, you need to explicitly specify the `axis` parameter:"
      ]
    },
    {
      "cell_type": "code",
      "execution_count": null,
      "id": "7283ce12",
      "metadata": {
        "ExecuteTime": {
          "end_time": "2024-02-06T07:52:33.603914Z",
          "start_time": "2024-02-06T07:52:33.599604Z"
        },
        "id": "7283ce12",
        "outputId": "c0702a24-203b-4b59-82a6-25bd39481409"
      },
      "outputs": [
        {
          "name": "stdout",
          "output_type": "stream",
          "text": [
            "[4 3 3] \n",
            "\n",
            "[[1 3 6]\n",
            " [4 7 9]\n",
            " [1 4 7]]\n"
          ]
        }
      ],
      "source": [
        "print(np.max(a, axis=0), '\\n')\n",
        "print(np.cumsum(a, axis=1))"
      ]
    },
    {
      "cell_type": "markdown",
      "id": "5b966de0",
      "metadata": {
        "id": "5b966de0"
      },
      "source": [
        "<font color='brown'>**Exercise 6.** You are given a vector $x$ and a square matrix $D$. Calculate the vector of values $y_j = argmin_i (x_i + D_{ij})$. </font>"
      ]
    },
    {
      "cell_type": "code",
      "execution_count": 47,
      "id": "85a34077",
      "metadata": {
        "ExecuteTime": {
          "end_time": "2024-02-06T07:52:33.955751Z",
          "start_time": "2024-02-06T07:52:33.952162Z"
        },
        "id": "85a34077"
      },
      "outputs": [],
      "source": [
        "x = np.array([5, 2, 3, 1])\n",
        "D = np.array([\n",
        "    [1, 2, 3],\n",
        "    [2, 2, 4],\n",
        "    [5, 6, 1],\n",
        "    [2, 4, 5]\n",
        "])"
      ]
    },
    {
      "cell_type": "code",
      "execution_count": 57,
      "id": "52e04673",
      "metadata": {
        "ExecuteTime": {
          "end_time": "2024-02-06T07:52:34.143528Z",
          "start_time": "2024-02-06T07:52:34.141035Z"
        },
        "id": "52e04673"
      },
      "outputs": [
        {
          "name": "stdout",
          "output_type": "stream",
          "text": [
            "[[6 7 8]\n",
            " [4 4 6]\n",
            " [8 9 4]\n",
            " [3 5 6]]\n"
          ]
        }
      ],
      "source": [
        "### your code here\n",
        "y = x.reshape(4,1)+D\n",
        "print(y)\n",
        "y = np.argmin(y, axis=0)\n"
      ]
    },
    {
      "cell_type": "code",
      "execution_count": 54,
      "id": "b6eaa51c",
      "metadata": {
        "deletable": false,
        "editable": false,
        "id": "b6eaa51c",
        "run_control": {
          "frozen": true
        }
      },
      "outputs": [],
      "source": [
        "# Check yourself\n",
        "assert y.tolist() == [3, 1, 2]"
      ]
    },
    {
      "cell_type": "markdown",
      "id": "645195cc",
      "metadata": {
        "id": "645195cc"
      },
      "source": [
        "<font color='brown'> **Exercise 7**. Number the maximum elements in the vector in order. For the vector `[1, 2, 3, 3, 2, 1, 3, 1]` you should get `[0, 0, 1, 2, 0, 0, 3, 0]`: </font>"
      ]
    },
    {
      "cell_type": "code",
      "execution_count": 125,
      "id": "31bf246c",
      "metadata": {
        "ExecuteTime": {
          "end_time": "2024-02-05T19:22:26.413043Z",
          "start_time": "2024-02-05T19:22:26.409140Z"
        },
        "deletable": false,
        "editable": false,
        "id": "31bf246c",
        "outputId": "f3e3efd4-6f1e-410e-e964-706625aac914",
        "run_control": {
          "frozen": true
        }
      },
      "outputs": [
        {
          "name": "stdout",
          "output_type": "stream",
          "text": [
            "[0, 0, 1, 2, 0, 0, 3, 0]\n"
          ]
        }
      ],
      "source": [
        "#find max\n",
        "#loop and compare to match with max\n",
        "#keep track of the \n",
        "def task_1(a):\n",
        "    counter = 1\n",
        "    a = np.array(a)\n",
        "    max = np.max(a)\n",
        "    #making another array filled with '0'\n",
        "    result = np.zeros_like(a)\n",
        "\n",
        "    for i in  range(len(a)):\n",
        "        if a[i]==max:\n",
        "            result[i] = counter\n",
        "            counter +=1\n",
        "    return result.tolist()\n",
        " \n",
        "\n",
        "\n",
        "\n",
        "print(task_1([1, 2, 3, 3, 2, 1, 3, 1]))"
      ]
    },
    {
      "cell_type": "markdown",
      "id": "94ddf5e9",
      "metadata": {
        "id": "94ddf5e9"
      },
      "source": [
        "<font color='brown'> **Exercise 8**. Implement a function for calculating the product of non-zero elements on the diagonal of a rectangular matrix. For the matrix `[[1, 0, 1], [2, 0, 2], [3, 0, 3], [4, 4, 4]]` the answer is $3$. If there are no non-zero elements, the function must return `None`: </font>"
      ]
    },
    {
      "cell_type": "code",
      "execution_count": 68,
      "id": "edc11b45",
      "metadata": {
        "ExecuteTime": {
          "end_time": "2024-02-05T19:23:17.762954Z",
          "start_time": "2024-02-05T19:23:17.759016Z"
        },
        "deletable": false,
        "editable": false,
        "id": "edc11b45",
        "outputId": "227501e2-ca1d-494a-d2a1-f22949dd4f6a",
        "run_control": {
          "frozen": true
        }
      },
      "outputs": [
        {
          "name": "stdout",
          "output_type": "stream",
          "text": [
            "3\n"
          ]
        }
      ],
      "source": [
        "def task_2(A):\n",
        "    i =0\n",
        "    result=1\n",
        "    #none value to check in case all values are 0's\n",
        "    none = True\n",
        "    while (i<len(A) and i<len(A[i])):\n",
        "        if A[i][i]!=0:\n",
        "            result *= A[i][i]\n",
        "            #change none to False when at least one element is not 0\n",
        "            none = False\n",
        "            i+=1\n",
        "        else:\n",
        "            i+=1\n",
        "    return result if not none else None\n",
        "\n",
        "print(task_2(np.array([[1, 0, 1], [2, 0, 2], [3, 0, 3], [4, 4, 4]])))"
      ]
    },
    {
      "cell_type": "markdown",
      "id": "a77f7ecf",
      "metadata": {
        "id": "a77f7ecf"
      },
      "source": [
        "<font color='brown'> **Exercise 9**. Find the maximum element in a row vector among elements preceded by zero. For `[0, 4, 2, 0, 3, 0, 0, 5, 7, 0]` the answer is $5$: </font>"
      ]
    },
    {
      "cell_type": "code",
      "execution_count": 71,
      "id": "783e676d",
      "metadata": {
        "ExecuteTime": {
          "end_time": "2024-02-05T19:24:04.784652Z",
          "start_time": "2024-02-05T19:24:04.780608Z"
        },
        "deletable": false,
        "editable": false,
        "id": "783e676d",
        "outputId": "d1d186bb-7ba0-4e65-c371-967ab85a0ee2",
        "run_control": {
          "frozen": true
        }
      },
      "outputs": [
        {
          "name": "stdout",
          "output_type": "stream",
          "text": [
            "5\n"
          ]
        }
      ],
      "source": [
        "def task_3(a):\n",
        "    after_zero = np.where(a[:-1]==0)[0]+1\n",
        "    return np.max(a[after_zero])\n",
        "print(task_3(np.array([0, 4, 2, 0, 3, 0, 0, 5, 7, 0])))"
      ]
    },
    {
      "cell_type": "markdown",
      "id": "ff60ff0d",
      "metadata": {
        "id": "ff60ff0d"
      },
      "source": [
        "<font color='brown'> **Exercise 10.** You are given a matrix of dimension $N \\times K$, $N$ is the number of objects, $K$ is the number of features. Calculate sample mean and covariance matrix without using functions mean and cov.\n",
        "\n",
        "$$ E[X]={\\frac {1}{n}}\\sum \\limits _{i=1}^{n}x_{i} $$\n",
        "\n",
        "$$ {\\mathrm  {cov}}(X_{{(n)}},Y_{{(n)}})={\\frac  1n}\\sum _{{t=1}}^{n}\\left(X_{t}-\\overline {X}\\right)\\left(Y_{t}-\\overline {Y}\\right)$$\n",
        "\n",
        " </font>"
      ]
    },
    {
      "cell_type": "code",
      "execution_count": null,
      "id": "bc773448",
      "metadata": {
        "ExecuteTime": {
          "end_time": "2024-02-06T07:52:35.398603Z",
          "start_time": "2024-02-06T07:52:35.395187Z"
        },
        "id": "bc773448"
      },
      "outputs": [],
      "source": [
        "X = np.arange(32).reshape(8, 4)"
      ]
    },
    {
      "cell_type": "code",
      "execution_count": 121,
      "id": "f4a7b5a0",
      "metadata": {
        "ExecuteTime": {
          "end_time": "2024-02-06T07:52:35.481382Z",
          "start_time": "2024-02-06T07:52:35.478620Z"
        },
        "id": "f4a7b5a0"
      },
      "outputs": [
        {
          "data": {
            "text/plain": [
              "array([[84., 84., 84., 84.],\n",
              "       [84., 84., 84., 84.],\n",
              "       [84., 84., 84., 84.],\n",
              "       [84., 84., 84., 84.]])"
            ]
          },
          "execution_count": 121,
          "metadata": {},
          "output_type": "execute_result"
        }
      ],
      "source": [
        "\n",
        "def find_mean_and_cov(a):\n",
        "  rows = a.shape[0]\n",
        "  mean_value = np.sum(a, axis=0) / rows\n",
        "  centered_data = a-mean_value\n",
        "  cov_matrix = np.dot(centered_data.T, centered_data) / rows\n",
        "  return mean_value, cov_matrix\n",
        "\n",
        "X = np.arange(32).reshape(8, 4)\n",
        "\n",
        "mean, cov = find_mean_and_cov(X)\n",
        "cov\n",
        "\n",
        "\n",
        "    \n"
      ]
    },
    {
      "cell_type": "code",
      "execution_count": 122,
      "id": "4691405b",
      "metadata": {
        "deletable": false,
        "editable": false,
        "id": "4691405b",
        "run_control": {
          "frozen": true
        }
      },
      "outputs": [],
      "source": [
        "# Check yourself\n",
        "assert mean.tolist() == [14, 15, 16, 17]\n",
        "assert np.all(cov == 84)"
      ]
    },
    {
      "cell_type": "markdown",
      "id": "81f32d73",
      "metadata": {
        "id": "81f32d73"
      },
      "source": [
        "<font color='brown'> **Exercise 11.** Replace all maximal elements of the matrix $A$ with $0$. </font>"
      ]
    },
    {
      "cell_type": "code",
      "execution_count": 101,
      "id": "48bebe76",
      "metadata": {
        "ExecuteTime": {
          "end_time": "2024-02-06T07:52:35.732380Z",
          "start_time": "2024-02-06T07:52:35.729154Z"
        },
        "id": "48bebe76"
      },
      "outputs": [
        {
          "data": {
            "text/plain": [
              "array([[1, 6, 3],\n",
              "       [6, 2, 1],\n",
              "       [4, 5, 6],\n",
              "       [1, 2, 1]])"
            ]
          },
          "execution_count": 101,
          "metadata": {},
          "output_type": "execute_result"
        }
      ],
      "source": [
        "A = np.array([\n",
        "    [1, 6, 3],\n",
        "    [6, 2, 1],\n",
        "    [4, 5, 6],\n",
        "    [1, 2, 1],\n",
        "])\n",
        "A"
      ]
    },
    {
      "cell_type": "code",
      "execution_count": 103,
      "id": "55a25416",
      "metadata": {
        "ExecuteTime": {
          "end_time": "2024-02-06T07:52:35.817071Z",
          "start_time": "2024-02-06T07:52:35.814156Z"
        },
        "id": "55a25416"
      },
      "outputs": [],
      "source": [
        "### your code here\n",
        "new_A = A[A==np.max(A)] = 0\n"
      ]
    },
    {
      "cell_type": "code",
      "execution_count": 104,
      "id": "65140f38",
      "metadata": {
        "deletable": false,
        "editable": false,
        "id": "65140f38",
        "run_control": {
          "frozen": true
        }
      },
      "outputs": [],
      "source": [
        "# Check yourself\n",
        "new_A = np.array([\n",
        "    [1, 0, 3],\n",
        "    [0, 2, 1],\n",
        "    [4, 5, 0],\n",
        "    [1, 2, 1],\n",
        "])\n",
        "assert np.all(A == new_A)"
      ]
    },
    {
      "cell_type": "markdown",
      "id": "a4241c17",
      "metadata": {
        "id": "a4241c17"
      },
      "source": [
        "<font color='brown'> **Exercise 12.** Given matrices $A$ of size $(n \\times d)$ and $B$ of size $(m \\times d)$. Find all rows in $A$ contained in $B$ without using loops. Estimate the complexity of the resulting algorithm. </font>"
      ]
    },
    {
      "cell_type": "code",
      "execution_count": 105,
      "id": "8a32e676",
      "metadata": {
        "ExecuteTime": {
          "end_time": "2024-02-06T07:52:36.066037Z",
          "start_time": "2024-02-06T07:52:36.062073Z"
        },
        "id": "8a32e676"
      },
      "outputs": [],
      "source": [
        "A = np.array([\n",
        "    [1, 2, 3],\n",
        "    [1, 2, 1],\n",
        "    [4, 5, 6],\n",
        "    [1, 2, 1],\n",
        "    [4, 2, 1]\n",
        "])\n",
        "\n",
        "B = np.array([\n",
        "    [4, 5, 6],\n",
        "    [4, 5, 6],\n",
        "    [1, 2, 3],\n",
        "    [0, 1, 2]\n",
        "])"
      ]
    },
    {
      "cell_type": "code",
      "execution_count": 114,
      "id": "6efa9c0c",
      "metadata": {
        "ExecuteTime": {
          "end_time": "2024-02-06T07:52:36.150397Z",
          "start_time": "2024-02-06T07:52:36.147072Z"
        },
        "id": "6efa9c0c"
      },
      "outputs": [
        {
          "data": {
            "text/plain": [
              "array([0, 2])"
            ]
          },
          "execution_count": 114,
          "metadata": {},
          "output_type": "execute_result"
        }
      ],
      "source": [
        "### your code here\n",
        "A_rows = set(map(tuple, A))\n",
        "B_rows = set(map(tuple, B))\n",
        "common = np.array(list(A_rows & B_rows))\n",
        "B_rows = set(map(tuple, B))\n",
        "indexes = np.where([tuple(row) in B_rows for row in A])[0]\n",
        "indexes\n",
        "#estimated time complexity  \n",
        "#convert B to set o(m)\n",
        "#check row of A o(n)\n",
        "#np.where() o(n)\n",
        "#total o(m+n)"
      ]
    },
    {
      "cell_type": "code",
      "execution_count": 115,
      "id": "a30e26d0",
      "metadata": {
        "deletable": false,
        "editable": false,
        "id": "a30e26d0",
        "run_control": {
          "frozen": true
        }
      },
      "outputs": [],
      "source": [
        "# Check yourself\n",
        "assert set(indexes) == {0, 2}"
      ]
    },
    {
      "cell_type": "markdown",
      "id": "66fe5ec4",
      "metadata": {
        "id": "66fe5ec4"
      },
      "source": [
        "<font color='brown'> **Exercise 13.** You are given matrices $A$ of size $(n \\times d)$ and $B$ of size $(m \\times d)$. Calculate a pairwise distance matrix $D$ of size $(n \\times m)$ such that $d_{ij} = \\{||a_{i} - b_{j}||\\}_{i,j}^{ n, m}$, using broadcasting. Estimate the complexity of the resulting algorithm. Can it be significantly improved? Hint: expand the square norm of the difference. </font>"
      ]
    },
    {
      "cell_type": "code",
      "execution_count": 116,
      "id": "bf02b021",
      "metadata": {
        "ExecuteTime": {
          "end_time": "2024-02-06T07:52:37.455473Z",
          "start_time": "2024-02-06T07:52:37.447807Z"
        },
        "id": "bf02b021",
        "outputId": "3ca16ca4-2617-41d6-dd85-1e3ab22a9759"
      },
      "outputs": [
        {
          "data": {
            "text/plain": [
              "(array([[ 0.14165286,  1.76936651, -1.14344429],\n",
              "        [-0.93986121,  0.10489091,  0.35909253],\n",
              "        [ 1.92558104,  0.89360667,  0.31169359],\n",
              "        [-0.76331764,  0.39293584, -0.01975436]]),\n",
              " array([[-2.29866404, -0.29084288,  0.36278615],\n",
              "        [-0.70352482, -0.72576927, -0.20337192],\n",
              "        [-0.71508499, -0.83197782,  0.47694928],\n",
              "        [ 0.25262663,  1.15225396, -1.30599028],\n",
              "        [ 0.24506349,  0.66422889,  0.25945253]]))"
            ]
          },
          "execution_count": 116,
          "metadata": {},
          "output_type": "execute_result"
        }
      ],
      "source": [
        "m, n, d = 5, 4, 3\n",
        "\n",
        "A = np.random.randn(n, d)\n",
        "B = np.random.randn(m, d)\n",
        "A, B"
      ]
    },
    {
      "cell_type": "code",
      "execution_count": 120,
      "id": "9bb6d53d",
      "metadata": {
        "ExecuteTime": {
          "end_time": "2024-02-06T07:52:37.533386Z",
          "start_time": "2024-02-06T07:52:37.530830Z"
        },
        "id": "9bb6d53d"
      },
      "outputs": [
        {
          "name": "stdout",
          "output_type": "stream",
          "text": [
            "[[2.00599329 0.74949316 3.25237629 3.63716226 2.87369167]\n",
            " [0.67985878 1.82348568 2.73849664 2.12661915 3.33667353]\n",
            " [1.71061717 0.88658467 2.4513793  2.83028249 2.45117062]\n",
            " [3.42301375 3.14701594 3.51797475 0.99399858 2.30373726]]\n"
          ]
        }
      ],
      "source": [
        "### your code here\n",
        "def pair_distance(a, b):\n",
        "  a_squared = np.sum(a**2, axis=1).reshape(-1,1)\n",
        "  b_squared = np.sum(b**2, axis=1).reshape(1,-1)\n",
        "  ab = np.dot(A, B.T)\n",
        "  distance = np.sqrt(a_squared + b_squared- 2*ab)\n",
        "  return distance\n",
        "\n",
        "m, n, d = 5, 4, 3\n",
        "\n",
        "A = np.random.randn(n, d)\n",
        "B = np.random.randn(m, d)\n",
        "A, B\n",
        "\n",
        "distance = pair_distance(A, B)\n",
        "print(distance)\n"
      ]
    },
    {
      "cell_type": "markdown",
      "id": "74e63805",
      "metadata": {
        "id": "74e63805"
      },
      "source": [
        "### `Pandas`"
      ]
    },
    {
      "cell_type": "markdown",
      "id": "3c1782fb",
      "metadata": {
        "id": "3c1782fb"
      },
      "source": [
        "In this part we will get acquainted with the **pandas** library. **Pandas** is a convenient library for working with tabular data in Python if there is not too much data and it fits in your computer's RAM.\n",
        "\n",
        "Using the built-in tools of **pandas** you can easily:\n",
        "- read tabular data (in csv, json, xlsx formats)\n",
        "- present your own data in the form of tables and save them\n",
        "- count statistics\n",
        "- visualize data\n",
        "- process data\n",
        "- and much more...\n",
        "\n",
        "Main objects in **pandas**:\n",
        "\n",
        "* **Series** is a one-dimensional data structure in which each element has its own index.\n",
        "* **DataFrame** is a tabular data structure, which is a table with named columns of various types and row indexes.\n",
        "\n",
        "\n",
        "Useful materials:\n",
        "1. [Documentation](http://pandas.pydata.org/pandas-docs/stable/index.html)\n",
        "2. [Pandas in 10 minutes from the official guide](http://pandas.pydata.org/pandas-docs/stable/10min.html)\n",
        "3. [Examples of using functionality](http://nbviewer.jupyter.org/github/justmarkham/pandas-videos/blob/master/pandas.ipynb)"
      ]
    },
    {
      "cell_type": "markdown",
      "id": "ff425fe6",
      "metadata": {
        "ExecuteTime": {
          "end_time": "2024-02-05T19:49:39.047325Z",
          "start_time": "2024-02-05T19:49:39.043060Z"
        },
        "id": "ff425fe6"
      },
      "source": [
        "Let's download data to analyze. [The dataset](https://www.kaggle.com/datasets/die9origephit/youtube-trending-videos-in-mediterranean-countries) includes YouTube trending videos statistics for Mediterranean countries on 2022-11-07."
      ]
    },
    {
      "cell_type": "code",
      "execution_count": 2,
      "id": "7d14d5e4",
      "metadata": {
        "ExecuteTime": {
          "end_time": "2024-02-06T07:52:39.975377Z",
          "start_time": "2024-02-06T07:52:37.866167Z"
        },
        "id": "7d14d5e4",
        "outputId": "b2558a81-eebf-4bff-e1e8-c20e49ea76c1"
      },
      "outputs": [
        {
          "name": "stdout",
          "output_type": "stream",
          "text": [
            "zsh:1: command not found: kaggle\n"
          ]
        }
      ],
      "source": [
        "!kaggle datasets download -d die9origephit/youtube-trending-videos-in-mediterranean-countries -p ./ --unzip"
      ]
    },
    {
      "cell_type": "markdown",
      "id": "42017594",
      "metadata": {
        "id": "42017594"
      },
      "source": [
        "#### `Textual analysis`"
      ]
    },
    {
      "cell_type": "markdown",
      "id": "097885fe",
      "metadata": {
        "id": "097885fe"
      },
      "source": [
        "At first let's analyze data structure, its columns and compute basic statistics."
      ]
    },
    {
      "cell_type": "markdown",
      "id": "56f7f914",
      "metadata": {
        "id": "56f7f914"
      },
      "source": [
        "First of all we need to open the file with the table and look at some samples, for instance we can print the last 5 rows:\n",
        "\n",
        "- https://pandas.pydata.org/pandas-docs/stable/getting_started/intro_tutorials/02_read_write.html\n",
        "- https://pandas.pydata.org/pandas-docs/stable/reference/api/pandas.read_csv.html\n",
        "- https://pandas.pydata.org/pandas-docs/stable/reference/api/pandas.DataFrame.tail.html#pandas.DataFrame.tail"
      ]
    },
    {
      "cell_type": "code",
      "execution_count": 5,
      "id": "f62ff9bc",
      "metadata": {
        "ExecuteTime": {
          "end_time": "2024-02-06T07:52:40.120057Z",
          "start_time": "2024-02-06T07:52:39.979094Z"
        },
        "id": "f62ff9bc",
        "outputId": "d260581b-3877-49b1-a74e-64723727aad0"
      },
      "outputs": [
        {
          "data": {
            "text/html": [
              "<div>\n",
              "<style scoped>\n",
              "    .dataframe tbody tr th:only-of-type {\n",
              "        vertical-align: middle;\n",
              "    }\n",
              "\n",
              "    .dataframe tbody tr th {\n",
              "        vertical-align: top;\n",
              "    }\n",
              "\n",
              "    .dataframe thead th {\n",
              "        text-align: right;\n",
              "    }\n",
              "</style>\n",
              "<table border=\"1\" class=\"dataframe\">\n",
              "  <thead>\n",
              "    <tr style=\"text-align: right;\">\n",
              "      <th></th>\n",
              "      <th>country</th>\n",
              "      <th>video_id</th>\n",
              "      <th>title</th>\n",
              "      <th>publishedAt</th>\n",
              "      <th>channelId</th>\n",
              "      <th>channelTitle</th>\n",
              "      <th>categoryId</th>\n",
              "      <th>trending_date</th>\n",
              "      <th>tags</th>\n",
              "      <th>view_count</th>\n",
              "      <th>comment_count</th>\n",
              "      <th>thumbnail_link</th>\n",
              "      <th>comments_disabled</th>\n",
              "      <th>ratings_disabled</th>\n",
              "      <th>description</th>\n",
              "    </tr>\n",
              "  </thead>\n",
              "  <tbody>\n",
              "    <tr>\n",
              "      <th>3216</th>\n",
              "      <td>NaN</td>\n",
              "      <td>eB-A1Y0Dswc</td>\n",
              "      <td>Thank you for watching</td>\n",
              "      <td>2022-07-05T21:18:33Z</td>\n",
              "      <td>UCS5tt2z_DFvG7-39J3aE-bQ</td>\n",
              "      <td>Life of Boris</td>\n",
              "      <td>22</td>\n",
              "      <td>22.11.07</td>\n",
              "      <td>lifeofboris|life of boris|english subtitles|ye...</td>\n",
              "      <td>864216</td>\n",
              "      <td>14431</td>\n",
              "      <td>https://i.ytimg.com/vi/eB-A1Y0Dswc/default.jpg</td>\n",
              "      <td>False</td>\n",
              "      <td>True</td>\n",
              "      <td>New channel: https://www.youtube.com/channel/U...</td>\n",
              "    </tr>\n",
              "    <tr>\n",
              "      <th>3217</th>\n",
              "      <td>NaN</td>\n",
              "      <td>KJGTtzccOHU</td>\n",
              "      <td>Pokemon Emerald but every battle is extremely ...</td>\n",
              "      <td>2022-07-05T01:55:10Z</td>\n",
              "      <td>UC0VVYtw21rg2cokUystu2Dw</td>\n",
              "      <td>SmallAnt</td>\n",
              "      <td>20</td>\n",
              "      <td>22.11.07</td>\n",
              "      <td>pokemon|smallant|smallant1|challenge|pokemon c...</td>\n",
              "      <td>1311698</td>\n",
              "      <td>1232</td>\n",
              "      <td>https://i.ytimg.com/vi/KJGTtzccOHU/default.jpg</td>\n",
              "      <td>False</td>\n",
              "      <td>True</td>\n",
              "      <td>Pokemon emerald but every battle is a 1v2You s...</td>\n",
              "    </tr>\n",
              "    <tr>\n",
              "      <th>3218</th>\n",
              "      <td>NaN</td>\n",
              "      <td>be8mqaTi_DI</td>\n",
              "      <td>Victor Cibrian x Fuerza Regida x Luis R Conriq...</td>\n",
              "      <td>2022-07-04T21:00:36Z</td>\n",
              "      <td>UC648rgJOboZlgcDbW00vTSA</td>\n",
              "      <td>Rancho Humilde</td>\n",
              "      <td>10</td>\n",
              "      <td>22.11.07</td>\n",
              "      <td>Rancho Humilde|Legado 7|El De La Guitarra|Fuer...</td>\n",
              "      <td>2256933</td>\n",
              "      <td>597</td>\n",
              "      <td>https://i.ytimg.com/vi/be8mqaTi_DI/default.jpg</td>\n",
              "      <td>False</td>\n",
              "      <td>True</td>\n",
              "      <td>SuscrÃ­bete: https://Rancho.lnk.to/RHYoutube\\r...</td>\n",
              "    </tr>\n",
              "    <tr>\n",
              "      <th>3219</th>\n",
              "      <td>NaN</td>\n",
              "      <td>14aYHc7ybu0</td>\n",
              "      <td>WE STAYED AT A 1 STAR HOTEL FOR 24 HOURS | coc...</td>\n",
              "      <td>2022-07-05T13:40:04Z</td>\n",
              "      <td>UCSGoIq_tVESqNYF1Re-zn1Q</td>\n",
              "      <td>HJ Evelyn</td>\n",
              "      <td>24</td>\n",
              "      <td>22.11.07</td>\n",
              "      <td>hjevelyn|Evelyn ha|Emily ha|erica ha|korean si...</td>\n",
              "      <td>922668</td>\n",
              "      <td>2951</td>\n",
              "      <td>https://i.ytimg.com/vi/14aYHc7ybu0/default.jpg</td>\n",
              "      <td>False</td>\n",
              "      <td>True</td>\n",
              "      <td>never again ahaha.... CHECK OUT OUR MERCH: htt...</td>\n",
              "    </tr>\n",
              "    <tr>\n",
              "      <th>3220</th>\n",
              "      <td>NaN</td>\n",
              "      <td>mQ9eFI13NCQ</td>\n",
              "      <td>I 100%'d Cuphead: The Delicious Last Course, H...</td>\n",
              "      <td>2022-07-04T16:04:33Z</td>\n",
              "      <td>UCRgzckrm1Svf-Y_dIWsTPTg</td>\n",
              "      <td>The Andrew Collette Show</td>\n",
              "      <td>20</td>\n",
              "      <td>22.11.07</td>\n",
              "      <td>cuphead|cuphead dlc|cuphead the delicious last...</td>\n",
              "      <td>1176289</td>\n",
              "      <td>620</td>\n",
              "      <td>https://i.ytimg.com/vi/mQ9eFI13NCQ/default.jpg</td>\n",
              "      <td>False</td>\n",
              "      <td>True</td>\n",
              "      <td>My Cuphead: The Delicious Last Course Let's Pl...</td>\n",
              "    </tr>\n",
              "  </tbody>\n",
              "</table>\n",
              "</div>"
            ],
            "text/plain": [
              "     country     video_id                                              title  \\\n",
              "3216     NaN  eB-A1Y0Dswc                             Thank you for watching   \n",
              "3217     NaN  KJGTtzccOHU  Pokemon Emerald but every battle is extremely ...   \n",
              "3218     NaN  be8mqaTi_DI  Victor Cibrian x Fuerza Regida x Luis R Conriq...   \n",
              "3219     NaN  14aYHc7ybu0  WE STAYED AT A 1 STAR HOTEL FOR 24 HOURS | coc...   \n",
              "3220     NaN  mQ9eFI13NCQ  I 100%'d Cuphead: The Delicious Last Course, H...   \n",
              "\n",
              "               publishedAt                 channelId  \\\n",
              "3216  2022-07-05T21:18:33Z  UCS5tt2z_DFvG7-39J3aE-bQ   \n",
              "3217  2022-07-05T01:55:10Z  UC0VVYtw21rg2cokUystu2Dw   \n",
              "3218  2022-07-04T21:00:36Z  UC648rgJOboZlgcDbW00vTSA   \n",
              "3219  2022-07-05T13:40:04Z  UCSGoIq_tVESqNYF1Re-zn1Q   \n",
              "3220  2022-07-04T16:04:33Z  UCRgzckrm1Svf-Y_dIWsTPTg   \n",
              "\n",
              "                  channelTitle  categoryId trending_date  \\\n",
              "3216             Life of Boris          22      22.11.07   \n",
              "3217                  SmallAnt          20      22.11.07   \n",
              "3218            Rancho Humilde          10      22.11.07   \n",
              "3219                 HJ Evelyn          24      22.11.07   \n",
              "3220  The Andrew Collette Show          20      22.11.07   \n",
              "\n",
              "                                                   tags  view_count  \\\n",
              "3216  lifeofboris|life of boris|english subtitles|ye...      864216   \n",
              "3217  pokemon|smallant|smallant1|challenge|pokemon c...     1311698   \n",
              "3218  Rancho Humilde|Legado 7|El De La Guitarra|Fuer...     2256933   \n",
              "3219  hjevelyn|Evelyn ha|Emily ha|erica ha|korean si...      922668   \n",
              "3220  cuphead|cuphead dlc|cuphead the delicious last...     1176289   \n",
              "\n",
              "      comment_count                                  thumbnail_link  \\\n",
              "3216          14431  https://i.ytimg.com/vi/eB-A1Y0Dswc/default.jpg   \n",
              "3217           1232  https://i.ytimg.com/vi/KJGTtzccOHU/default.jpg   \n",
              "3218            597  https://i.ytimg.com/vi/be8mqaTi_DI/default.jpg   \n",
              "3219           2951  https://i.ytimg.com/vi/14aYHc7ybu0/default.jpg   \n",
              "3220            620  https://i.ytimg.com/vi/mQ9eFI13NCQ/default.jpg   \n",
              "\n",
              "      comments_disabled  ratings_disabled  \\\n",
              "3216              False              True   \n",
              "3217              False              True   \n",
              "3218              False              True   \n",
              "3219              False              True   \n",
              "3220              False              True   \n",
              "\n",
              "                                            description  \n",
              "3216  New channel: https://www.youtube.com/channel/U...  \n",
              "3217  Pokemon emerald but every battle is a 1v2You s...  \n",
              "3218  SuscrÃ­bete: https://Rancho.lnk.to/RHYoutube\\r...  \n",
              "3219  never again ahaha.... CHECK OUT OUR MERCH: htt...  \n",
              "3220  My Cuphead: The Delicious Last Course Let's Pl...  "
            ]
          },
          "execution_count": 5,
          "metadata": {},
          "output_type": "execute_result"
        }
      ],
      "source": [
        "import pandas as pd\n",
        "data = pd.read_csv('youtube_trending_mediterranean.csv')\n",
        "data.tail(5)"
      ]
    },
    {
      "cell_type": "markdown",
      "id": "130c305d",
      "metadata": {
        "id": "130c305d"
      },
      "source": [
        "Then, look at the data and tell what they are, how many rows and columns are there in the table?\n",
        "\n",
        "- https://pandas.pydata.org/pandas-docs/stable/reference/api/pandas.DataFrame.shape.html#pandas.DataFrame.shape"
      ]
    },
    {
      "cell_type": "code",
      "execution_count": 6,
      "id": "50e84365",
      "metadata": {
        "ExecuteTime": {
          "end_time": "2024-02-06T07:52:40.130571Z",
          "start_time": "2024-02-06T07:52:40.123598Z"
        },
        "id": "50e84365",
        "outputId": "cf23ebb6-fe8a-4d97-887d-87a1b2bae0b1"
      },
      "outputs": [
        {
          "data": {
            "text/plain": [
              "((3221, 15),\n",
              " Index(['country', 'video_id', 'title', 'publishedAt', 'channelId',\n",
              "        'channelTitle', 'categoryId', 'trending_date', 'tags', 'view_count',\n",
              "        'comment_count', 'thumbnail_link', 'comments_disabled',\n",
              "        'ratings_disabled', 'description'],\n",
              "       dtype='object'))"
            ]
          },
          "execution_count": 6,
          "metadata": {},
          "output_type": "execute_result"
        }
      ],
      "source": [
        "# 3221 rows, 15 columns\n",
        "data.shape, data.columns"
      ]
    },
    {
      "cell_type": "markdown",
      "id": "b7e814bf",
      "metadata": {
        "id": "b7e814bf"
      },
      "source": [
        "Then we can start our analysis column by column. Let's look at `country` column.\n",
        "\n",
        "For how many countries is there information about videos in the table? We will assume the absence of a country does not count as +1 value?\n",
        "\n",
        "- https://pandas.pydata.org/pandas-docs/stable/reference/api/pandas.Series.nunique.html#pandas.Series.nunique"
      ]
    },
    {
      "cell_type": "code",
      "execution_count": 7,
      "id": "4e853da6",
      "metadata": {
        "ExecuteTime": {
          "end_time": "2024-02-06T07:52:40.141412Z",
          "start_time": "2024-02-06T07:52:40.135703Z"
        },
        "id": "4e853da6",
        "outputId": "6a79d3a2-ba53-46c5-9f5b-19e27235bc36"
      },
      "outputs": [
        {
          "data": {
            "text/plain": [
              "19"
            ]
          },
          "execution_count": 7,
          "metadata": {},
          "output_type": "execute_result"
        }
      ],
      "source": [
        "data.country.nunique(dropna=True)"
      ]
    },
    {
      "cell_type": "markdown",
      "id": "a9c29f66",
      "metadata": {
        "id": "a9c29f66"
      },
      "source": [
        "How many videos (i.e. entries in the table) are there with allowed and prohibited comments? (column `comments_disabled`)\n",
        "\n",
        "- https://pandas.pydata.org/pandas-docs/stable/reference/api/pandas.Series.value_counts.html#pandas.Series.value_counts"
      ]
    },
    {
      "cell_type": "code",
      "execution_count": 8,
      "id": "08ccb575",
      "metadata": {
        "ExecuteTime": {
          "end_time": "2024-02-06T07:52:40.151133Z",
          "start_time": "2024-02-06T07:52:40.143850Z"
        },
        "id": "08ccb575",
        "outputId": "dd813cf2-6881-45f4-a148-1aa660bc29de"
      },
      "outputs": [
        {
          "data": {
            "text/plain": [
              "comments_disabled\n",
              "False    3193\n",
              "True       28\n",
              "Name: count, dtype: int64"
            ]
          },
          "execution_count": 8,
          "metadata": {},
          "output_type": "execute_result"
        }
      ],
      "source": [
        "data.comments_disabled.value_counts()"
      ]
    },
    {
      "cell_type": "markdown",
      "id": "60000f02",
      "metadata": {
        "id": "60000f02"
      },
      "source": [
        "What is the maximum number of views for videos included in the table? (column `view_count`)\n",
        "\n",
        "- https://pandas.pydata.org/pandas-docs/stable/reference/api/pandas.Series.max.html#pandas.Series.max"
      ]
    },
    {
      "cell_type": "code",
      "execution_count": 9,
      "id": "4663d600",
      "metadata": {
        "ExecuteTime": {
          "end_time": "2024-02-06T07:52:40.159030Z",
          "start_time": "2024-02-06T07:52:40.154024Z"
        },
        "id": "4663d600",
        "outputId": "3766f236-e106-4924-812e-3bb37ef34287"
      },
      "outputs": [
        {
          "data": {
            "text/plain": [
              "123034293"
            ]
          },
          "execution_count": 9,
          "metadata": {},
          "output_type": "execute_result"
        }
      ],
      "source": [
        "data.view_count.max()"
      ]
    },
    {
      "cell_type": "markdown",
      "id": "dcd9a921",
      "metadata": {
        "id": "dcd9a921"
      },
      "source": [
        "Are there any gaps in the data? In which columns?\n",
        "\n",
        "You can read more about working with missing values [here](https://pandas.pydata.org/pandas-docs/stable/user_guide/missing_data.html).\n",
        "\n",
        "- https://pandas.pydata.org/pandas-docs/stable/reference/api/pandas.DataFrame.isnull.html#pandas.DataFrame.isnull"
      ]
    },
    {
      "cell_type": "code",
      "execution_count": 10,
      "id": "56ab638e",
      "metadata": {
        "ExecuteTime": {
          "end_time": "2024-02-06T07:52:40.174082Z",
          "start_time": "2024-02-06T07:52:40.161477Z"
        },
        "id": "56ab638e",
        "outputId": "de8a6590-9550-4902-86b0-e23a5caecb08"
      },
      "outputs": [
        {
          "data": {
            "text/plain": [
              "country              200\n",
              "video_id               0\n",
              "title                  0\n",
              "publishedAt            0\n",
              "channelId              0\n",
              "channelTitle           0\n",
              "categoryId             0\n",
              "trending_date          0\n",
              "tags                   0\n",
              "view_count             0\n",
              "comment_count          0\n",
              "thumbnail_link         0\n",
              "comments_disabled      0\n",
              "ratings_disabled       0\n",
              "description          131\n",
              "dtype: int64"
            ]
          },
          "execution_count": 10,
          "metadata": {},
          "output_type": "execute_result"
        }
      ],
      "source": [
        "data.isnull().sum()"
      ]
    },
    {
      "cell_type": "markdown",
      "id": "082a3bd9",
      "metadata": {
        "id": "082a3bd9"
      },
      "source": [
        "Pandas can perform basic preprocessing. For example, we can fill the gaps with a blank line for text columns, and remove blank lines for columns with categorical values.\n",
        "\n",
        "We will assume that the values of a categorical variable determine the fact of belonging to a certain category; there should be a limited number of categories, much smaller than the size of the dataset.\n",
        "\n",
        "- https://pandas.pydata.org/pandas-docs/stable/reference/api/pandas.DataFrame.fillna.html#pandas.DataFrame.fillna\n",
        "- https://pandas.pydata.org/pandas-docs/stable/reference/api/pandas.DataFrame.dropna.html#pandas.DataFrame.dropna"
      ]
    },
    {
      "cell_type": "code",
      "execution_count": 11,
      "id": "bc64ebd7",
      "metadata": {
        "ExecuteTime": {
          "end_time": "2024-02-06T07:52:40.188547Z",
          "start_time": "2024-02-06T07:52:40.176360Z"
        },
        "id": "bc64ebd7"
      },
      "outputs": [],
      "source": [
        "data.fillna({\"description\": \"\"}, inplace=True)\n",
        "data.dropna(inplace=True)"
      ]
    },
    {
      "cell_type": "code",
      "execution_count": 12,
      "id": "fa8058a9",
      "metadata": {
        "ExecuteTime": {
          "end_time": "2024-02-06T07:52:40.203072Z",
          "start_time": "2024-02-06T07:52:40.190826Z"
        },
        "id": "fa8058a9",
        "outputId": "8aa00d00-2f34-4963-d2d0-2d257abd22a0"
      },
      "outputs": [
        {
          "data": {
            "text/plain": [
              "((3021, 15),\n",
              " country              0\n",
              " video_id             0\n",
              " title                0\n",
              " publishedAt          0\n",
              " channelId            0\n",
              " channelTitle         0\n",
              " categoryId           0\n",
              " trending_date        0\n",
              " tags                 0\n",
              " view_count           0\n",
              " comment_count        0\n",
              " thumbnail_link       0\n",
              " comments_disabled    0\n",
              " ratings_disabled     0\n",
              " description          0\n",
              " dtype: int64)"
            ]
          },
          "execution_count": 12,
          "metadata": {},
          "output_type": "execute_result"
        }
      ],
      "source": [
        "data.shape, data.isnull().sum()"
      ]
    },
    {
      "cell_type": "markdown",
      "id": "38f12aad",
      "metadata": {
        "id": "38f12aad"
      },
      "source": [
        "Then we can look at the `publishedAt` column and determine what type is it?"
      ]
    },
    {
      "cell_type": "code",
      "execution_count": 13,
      "id": "c2ee1766",
      "metadata": {
        "ExecuteTime": {
          "end_time": "2024-02-06T07:52:40.216437Z",
          "start_time": "2024-02-06T07:52:40.209253Z"
        },
        "id": "c2ee1766",
        "outputId": "486ba7f8-f342-47f3-9939-791592036894"
      },
      "outputs": [
        {
          "data": {
            "text/plain": [
              "0       2022-07-07T22:00:12Z\n",
              "1       2022-06-30T22:00:11Z\n",
              "2       2022-07-02T22:00:11Z\n",
              "3       2022-07-07T22:00:12Z\n",
              "4       2022-06-30T18:00:26Z\n",
              "                ...         \n",
              "3016    2022-07-05T18:46:34Z\n",
              "3017    2022-07-04T09:00:09Z\n",
              "3018    2022-07-03T20:00:18Z\n",
              "3019    2022-07-01T20:47:38Z\n",
              "3020    2022-07-06T17:09:00Z\n",
              "Name: publishedAt, Length: 3021, dtype: object"
            ]
          },
          "execution_count": 13,
          "metadata": {},
          "output_type": "execute_result"
        }
      ],
      "source": [
        "data.publishedAt"
      ]
    },
    {
      "cell_type": "markdown",
      "id": "87bb388b",
      "metadata": {
        "id": "87bb388b"
      },
      "source": [
        "Pandas can process time series out of the box. But we need to explicitly specify correct data type for such columns. So we change the column type to datetime.\n",
        "\n",
        "Then we can analyze distribution of videos by month. For example we can determine which month had the most videos added?\n",
        "\n",
        "Useful materials: https://pandas.pydata.org/pandas-docs/stable/user_guide/timeseries.html\n",
        "\n",
        "- https://pandas.pydata.org/pandas-docs/stable/reference/api/pandas.to_datetime.html#pandas-to-datetime\n",
        "- https://pandas.pydata.org/pandas-docs/stable/reference/api/pandas.Series.dt.month.html#pandas.Series.dt.month"
      ]
    },
    {
      "cell_type": "code",
      "execution_count": 25,
      "id": "0d5ff4f7",
      "metadata": {
        "ExecuteTime": {
          "end_time": "2024-02-06T07:52:40.230765Z",
          "start_time": "2024-02-06T07:52:40.219823Z"
        },
        "id": "0d5ff4f7",
        "outputId": "1ad03a9b-5a1e-4609-f7ba-014547d8a261"
      },
      "outputs": [
        {
          "data": {
            "text/plain": [
              "0      2022-07-07 22:00:12+00:00\n",
              "1      2022-06-30 22:00:11+00:00\n",
              "2      2022-07-02 22:00:11+00:00\n",
              "3      2022-07-07 22:00:12+00:00\n",
              "4      2022-06-30 18:00:26+00:00\n",
              "                  ...           \n",
              "3016   2022-07-05 18:46:34+00:00\n",
              "3017   2022-07-04 09:00:09+00:00\n",
              "3018   2022-07-03 20:00:18+00:00\n",
              "3019   2022-07-01 20:47:38+00:00\n",
              "3020   2022-07-06 17:09:00+00:00\n",
              "Name: publishedAt, Length: 3021, dtype: datetime64[ns, UTC]"
            ]
          },
          "execution_count": 25,
          "metadata": {},
          "output_type": "execute_result"
        }
      ],
      "source": [
        "data['publishedAt'] = pd.to_datetime(data.publishedAt)\n",
        "data.publishedAt"
      ]
    },
    {
      "cell_type": "code",
      "execution_count": 26,
      "id": "ad2ccb67",
      "metadata": {
        "ExecuteTime": {
          "end_time": "2024-02-06T07:52:40.240467Z",
          "start_time": "2024-02-06T07:52:40.233275Z"
        },
        "id": "ad2ccb67",
        "outputId": "1b03c6ef-5109-4912-ef41-0dd9fa5920c7"
      },
      "outputs": [
        {
          "data": {
            "text/plain": [
              "publishedAt\n",
              "7    1955\n",
              "6    1066\n",
              "Name: count, dtype: int64"
            ]
          },
          "execution_count": 26,
          "metadata": {},
          "output_type": "execute_result"
        }
      ],
      "source": [
        "data['publishedAt'].dt.month.value_counts()"
      ]
    },
    {
      "cell_type": "markdown",
      "id": "795352d4",
      "metadata": {
        "id": "795352d4"
      },
      "source": [
        "Now, look at the `description` column. Here we will work with textual data. Many useful functions for string manipulation are accessible through `.str` attribute.\n",
        "\n",
        "\n",
        "Useful materials:\n",
        "* About working with text data in pandas: https://pandas.pydata.org/pandas-docs/stable/user_guide/text.html\n",
        "\n",
        "- https://pandas.pydata.org/pandas-docs/stable/reference/api/pandas.Series.str.lower.html#pandas.Series.str.lower\n",
        "- https://pandas.pydata.org/pandas-docs/stable/reference/api/pandas.Series.str.replace.html#pandas.Series.str.replace"
      ]
    },
    {
      "cell_type": "markdown",
      "id": "c659606c",
      "metadata": {
        "id": "c659606c"
      },
      "source": [
        "* Let's have a look at some `description`, for instance for a video with `viseo_id = 'Oxexirlmdig'`"
      ]
    },
    {
      "cell_type": "code",
      "execution_count": 14,
      "id": "42d1b15c",
      "metadata": {},
      "outputs": [
        {
          "name": "stdout",
          "output_type": "stream",
          "text": [
            "<class 'pandas.core.frame.DataFrame'>\n",
            "Index: 3021 entries, 0 to 3020\n",
            "Data columns (total 15 columns):\n",
            " #   Column             Non-Null Count  Dtype \n",
            "---  ------             --------------  ----- \n",
            " 0   country            3021 non-null   object\n",
            " 1   video_id           3021 non-null   object\n",
            " 2   title              3021 non-null   object\n",
            " 3   publishedAt        3021 non-null   object\n",
            " 4   channelId          3021 non-null   object\n",
            " 5   channelTitle       3021 non-null   object\n",
            " 6   categoryId         3021 non-null   int64 \n",
            " 7   trending_date      3021 non-null   object\n",
            " 8   tags               3021 non-null   object\n",
            " 9   view_count         3021 non-null   int64 \n",
            " 10  comment_count      3021 non-null   int64 \n",
            " 11  thumbnail_link     3021 non-null   object\n",
            " 12  comments_disabled  3021 non-null   bool  \n",
            " 13  ratings_disabled   3021 non-null   bool  \n",
            " 14  description        3021 non-null   object\n",
            "dtypes: bool(2), int64(3), object(10)\n",
            "memory usage: 336.3+ KB\n"
          ]
        }
      ],
      "source": [
        "data.info()"
      ]
    },
    {
      "cell_type": "code",
      "execution_count": 15,
      "id": "71bd45bd",
      "metadata": {
        "ExecuteTime": {
          "end_time": "2024-02-06T07:52:40.249436Z",
          "start_time": "2024-02-06T07:52:40.243151Z"
        },
        "id": "71bd45bd",
        "outputId": "86d55c0b-eb29-4a7a-e48b-952fe264a119"
      },
      "outputs": [
        {
          "data": {
            "text/plain": [
              "'Music line & Lyrics : GHETTO GEASY & MAJKMusic Produced : BIGDEAL RECORDS Mix & Master: BIGDEAL RECORDSAvailable on:Spotify: https://open.spotify.com/album/3qmQlAeQM4j86NMEzCWyX4iTunes: https://music.apple.com/es/album/mari-single/1632054646Shazam: https://www.shazam.com/track/621534331/marihttps://acromaxmedia.lnk.to/Mari'"
            ]
          },
          "execution_count": 15,
          "metadata": {},
          "output_type": "execute_result"
        }
      ],
      "source": [
        "data.loc[data.video_id == 'Oxexirlmdig'].iloc[0].description"
      ]
    },
    {
      "cell_type": "markdown",
      "id": "9effa541",
      "metadata": {
        "id": "9effa541"
      },
      "source": [
        "Such description is pretty messy. We can preprocess its a little bit:\n",
        "* Convert strings to lowercase and trim unnecessary spaces on the right and left.\n",
        "* Replace URLs in descriptions with a special tag `<URL>`."
      ]
    },
    {
      "cell_type": "code",
      "execution_count": 16,
      "id": "05806f25",
      "metadata": {
        "ExecuteTime": {
          "end_time": "2024-02-06T07:52:40.322238Z",
          "start_time": "2024-02-06T07:52:40.251927Z"
        },
        "id": "05806f25"
      },
      "outputs": [],
      "source": [
        "data.description = data.description.str.lower().str.strip()"
      ]
    },
    {
      "cell_type": "code",
      "execution_count": 17,
      "id": "40116592",
      "metadata": {
        "ExecuteTime": {
          "end_time": "2024-02-06T07:52:40.356456Z",
          "start_time": "2024-02-06T07:52:40.327111Z"
        },
        "id": "40116592",
        "outputId": "290afff9-273a-4d4b-8776-2890390cc435"
      },
      "outputs": [
        {
          "data": {
            "text/plain": [
              "'music line & lyrics : ghetto geasy & majkmusic produced : bigdeal records mix & master: bigdeal recordsavailable on:spotify: <URL> <URL> <URL>'"
            ]
          },
          "execution_count": 17,
          "metadata": {},
          "output_type": "execute_result"
        }
      ],
      "source": [
        "data.description = data.description.str.replace(r'http\\S+', '<URL>', regex=True)\n",
        "data.loc[data.video_id == 'Oxexirlmdig'].iloc[0].description"
      ]
    },
    {
      "cell_type": "markdown",
      "id": "54c59cd9",
      "metadata": {
        "id": "54c59cd9"
      },
      "source": [
        "Then we can analyze some statistics. Which $5$ videos received the most views in Italy? As an answer, we will provide the names of the required channels, sorted in descending order of the number of views of the most popular videos\n",
        "\n",
        "- https://pandas.pydata.org/pandas-docs/stable/reference/api/pandas.DataFrame.sort_values.html"
      ]
    },
    {
      "cell_type": "code",
      "execution_count": 18,
      "id": "0de124f5",
      "metadata": {
        "ExecuteTime": {
          "end_time": "2024-02-06T07:52:40.405304Z",
          "start_time": "2024-02-06T07:52:40.387612Z"
        },
        "id": "0de124f5",
        "outputId": "3854bb2a-a1cf-4616-928f-d69a2624eeff"
      },
      "outputs": [
        {
          "data": {
            "text/html": [
              "<div>\n",
              "<style scoped>\n",
              "    .dataframe tbody tr th:only-of-type {\n",
              "        vertical-align: middle;\n",
              "    }\n",
              "\n",
              "    .dataframe tbody tr th {\n",
              "        vertical-align: top;\n",
              "    }\n",
              "\n",
              "    .dataframe thead th {\n",
              "        text-align: right;\n",
              "    }\n",
              "</style>\n",
              "<table border=\"1\" class=\"dataframe\">\n",
              "  <thead>\n",
              "    <tr style=\"text-align: right;\">\n",
              "      <th></th>\n",
              "      <th>country</th>\n",
              "      <th>video_id</th>\n",
              "      <th>title</th>\n",
              "      <th>publishedAt</th>\n",
              "      <th>channelId</th>\n",
              "      <th>channelTitle</th>\n",
              "      <th>categoryId</th>\n",
              "      <th>trending_date</th>\n",
              "      <th>tags</th>\n",
              "      <th>view_count</th>\n",
              "      <th>comment_count</th>\n",
              "      <th>thumbnail_link</th>\n",
              "      <th>comments_disabled</th>\n",
              "      <th>ratings_disabled</th>\n",
              "      <th>description</th>\n",
              "    </tr>\n",
              "  </thead>\n",
              "  <tbody>\n",
              "    <tr>\n",
              "      <th>1630</th>\n",
              "      <td>IT</td>\n",
              "      <td>e6suFNbou5Y</td>\n",
              "      <td>Oddly satisfying ð¤ªð¤ªð¤ª Kids donât try...</td>\n",
              "      <td>2022-07-04T01:49:54Z</td>\n",
              "      <td>UClFN9LShD_Pv0wnSeUKbUZw</td>\n",
              "      <td>That Little Puff</td>\n",
              "      <td>15</td>\n",
              "      <td>22.11.07</td>\n",
              "      <td>[none]</td>\n",
              "      <td>82864422</td>\n",
              "      <td>3637</td>\n",
              "      <td>https://i.ytimg.com/vi/e6suFNbou5Y/default.jpg</td>\n",
              "      <td>False</td>\n",
              "      <td>True</td>\n",
              "      <td></td>\n",
              "    </tr>\n",
              "    <tr>\n",
              "      <th>1599</th>\n",
              "      <td>IT</td>\n",
              "      <td>dYRITmpFbJ4</td>\n",
              "      <td>aespa ìì¤í 'Girls' MV</td>\n",
              "      <td>2022-07-08T04:00:14Z</td>\n",
              "      <td>UCEf_Bc-KVd7onSeifS3py9g</td>\n",
              "      <td>SMTOWN</td>\n",
              "      <td>10</td>\n",
              "      <td>22.11.07</td>\n",
              "      <td>[none]</td>\n",
              "      <td>47227373</td>\n",
              "      <td>180232</td>\n",
              "      <td>https://i.ytimg.com/vi/dYRITmpFbJ4/default.jpg</td>\n",
              "      <td>False</td>\n",
              "      <td>True</td>\n",
              "      <td>aespa's 2nd mini album girls is out!listen and...</td>\n",
              "    </tr>\n",
              "    <tr>\n",
              "      <th>1570</th>\n",
              "      <td>IT</td>\n",
              "      <td>xEIldng2HR8</td>\n",
              "      <td>Ok.. ð</td>\n",
              "      <td>2022-07-03T15:29:41Z</td>\n",
              "      <td>UClk5AUhvoAzN41inRfdLPYw</td>\n",
              "      <td>Celine &amp; Michiel</td>\n",
              "      <td>24</td>\n",
              "      <td>22.11.07</td>\n",
              "      <td>[none]</td>\n",
              "      <td>37011562</td>\n",
              "      <td>4043</td>\n",
              "      <td>https://i.ytimg.com/vi/xEIldng2HR8/default.jpg</td>\n",
              "      <td>False</td>\n",
              "      <td>True</td>\n",
              "      <td>abonneer voor meer!shoutout the window master:...</td>\n",
              "    </tr>\n",
              "    <tr>\n",
              "      <th>1631</th>\n",
              "      <td>IT</td>\n",
              "      <td>gjZdcyo98EY</td>\n",
              "      <td>This is unreal ð³ (via @colognebombs)</td>\n",
              "      <td>2022-07-03T15:00:32Z</td>\n",
              "      <td>UCQZi2YXSxc6BSK4mZHql8ag</td>\n",
              "      <td>SportsNation</td>\n",
              "      <td>17</td>\n",
              "      <td>22.11.07</td>\n",
              "      <td>sportsnation|#shorts|sportsnation espn|espn|di...</td>\n",
              "      <td>31997011</td>\n",
              "      <td>3340</td>\n",
              "      <td>https://i.ytimg.com/vi/gjZdcyo98EY/default.jpg</td>\n",
              "      <td>False</td>\n",
              "      <td>True</td>\n",
              "      <td>this is unreal ð³ (via @colognebombs)</td>\n",
              "    </tr>\n",
              "    <tr>\n",
              "      <th>1656</th>\n",
              "      <td>IT</td>\n",
              "      <td>6WK7rNcz6DA</td>\n",
              "      <td>Perfect!!! #beatbox #tiktok</td>\n",
              "      <td>2022-07-04T09:18:13Z</td>\n",
              "      <td>UCdX5KXiCTPYWYZscfphgQ4g</td>\n",
              "      <td>BeatboxJCOP</td>\n",
              "      <td>1</td>\n",
              "      <td>22.11.07</td>\n",
              "      <td>[none]</td>\n",
              "      <td>28036908</td>\n",
              "      <td>3709</td>\n",
              "      <td>https://i.ytimg.com/vi/6WK7rNcz6DA/default.jpg</td>\n",
              "      <td>False</td>\n",
              "      <td>True</td>\n",
              "      <td></td>\n",
              "    </tr>\n",
              "  </tbody>\n",
              "</table>\n",
              "</div>"
            ],
            "text/plain": [
              "     country     video_id                                              title  \\\n",
              "1630      IT  e6suFNbou5Y  Oddly satisfying ð¤ªð¤ªð¤ª Kids donât try...   \n",
              "1599      IT  dYRITmpFbJ4                         aespa ìì¤í 'Girls' MV   \n",
              "1570      IT  xEIldng2HR8                                          Ok.. ð   \n",
              "1631      IT  gjZdcyo98EY            This is unreal ð³ (via @colognebombs)   \n",
              "1656      IT  6WK7rNcz6DA                        Perfect!!! #beatbox #tiktok   \n",
              "\n",
              "               publishedAt                 channelId      channelTitle  \\\n",
              "1630  2022-07-04T01:49:54Z  UClFN9LShD_Pv0wnSeUKbUZw  That Little Puff   \n",
              "1599  2022-07-08T04:00:14Z  UCEf_Bc-KVd7onSeifS3py9g            SMTOWN   \n",
              "1570  2022-07-03T15:29:41Z  UClk5AUhvoAzN41inRfdLPYw  Celine & Michiel   \n",
              "1631  2022-07-03T15:00:32Z  UCQZi2YXSxc6BSK4mZHql8ag      SportsNation   \n",
              "1656  2022-07-04T09:18:13Z  UCdX5KXiCTPYWYZscfphgQ4g       BeatboxJCOP   \n",
              "\n",
              "      categoryId trending_date  \\\n",
              "1630          15      22.11.07   \n",
              "1599          10      22.11.07   \n",
              "1570          24      22.11.07   \n",
              "1631          17      22.11.07   \n",
              "1656           1      22.11.07   \n",
              "\n",
              "                                                   tags  view_count  \\\n",
              "1630                                             [none]    82864422   \n",
              "1599                                             [none]    47227373   \n",
              "1570                                             [none]    37011562   \n",
              "1631  sportsnation|#shorts|sportsnation espn|espn|di...    31997011   \n",
              "1656                                             [none]    28036908   \n",
              "\n",
              "      comment_count                                  thumbnail_link  \\\n",
              "1630           3637  https://i.ytimg.com/vi/e6suFNbou5Y/default.jpg   \n",
              "1599         180232  https://i.ytimg.com/vi/dYRITmpFbJ4/default.jpg   \n",
              "1570           4043  https://i.ytimg.com/vi/xEIldng2HR8/default.jpg   \n",
              "1631           3340  https://i.ytimg.com/vi/gjZdcyo98EY/default.jpg   \n",
              "1656           3709  https://i.ytimg.com/vi/6WK7rNcz6DA/default.jpg   \n",
              "\n",
              "      comments_disabled  ratings_disabled  \\\n",
              "1630              False              True   \n",
              "1599              False              True   \n",
              "1570              False              True   \n",
              "1631              False              True   \n",
              "1656              False              True   \n",
              "\n",
              "                                            description  \n",
              "1630                                                     \n",
              "1599  aespa's 2nd mini album girls is out!listen and...  \n",
              "1570  abonneer voor meer!shoutout the window master:...  \n",
              "1631            this is unreal ð³ (via @colognebombs)  \n",
              "1656                                                     "
            ]
          },
          "execution_count": 18,
          "metadata": {},
          "output_type": "execute_result"
        }
      ],
      "source": [
        "data[data.country == 'IT'].sort_values(by='view_count', ascending=False).head(5)"
      ]
    },
    {
      "cell_type": "markdown",
      "id": "f653f932",
      "metadata": {
        "id": "f653f932"
      },
      "source": [
        "Which video was published in the most countries?\n",
        "\n",
        "- https://pandas.pydata.org/pandas-docs/stable/reference/api/pandas.DataFrame.groupby.html\n",
        "- https://pandas.pydata.org/pandas-docs/stable/reference/api/pandas.DataFrame.sort_values.html"
      ]
    },
    {
      "cell_type": "code",
      "execution_count": 19,
      "id": "a63f2784",
      "metadata": {
        "ExecuteTime": {
          "end_time": "2024-02-06T07:52:40.557906Z",
          "start_time": "2024-02-06T07:52:40.547918Z"
        },
        "id": "a63f2784",
        "outputId": "ee29224d-39e9-4efc-970c-991507dd55d8"
      },
      "outputs": [
        {
          "data": {
            "text/plain": [
              "video_id\n",
              "bM6ren2tPU8    17\n",
              "#NAME?         15\n",
              "nopEs-K4ExM    14\n",
              "dIQGI36BxDE    14\n",
              "pKdBFeewZYE    14\n",
              "               ..\n",
              "aMk2jS96PgM     1\n",
              "aVRZzShAomE     1\n",
              "aXYQcYRsZiQ     1\n",
              "aakXw1N5AmA     1\n",
              "VaeoPehBqTA     1\n",
              "Name: country, Length: 1540, dtype: int64"
            ]
          },
          "execution_count": 19,
          "metadata": {},
          "output_type": "execute_result"
        }
      ],
      "source": [
        "data.groupby('video_id').country.nunique().sort_values()[::-1]"
      ]
    },
    {
      "cell_type": "code",
      "execution_count": 21,
      "id": "394f014b",
      "metadata": {
        "ExecuteTime": {
          "end_time": "2024-02-06T07:52:40.637950Z",
          "start_time": "2024-02-06T07:52:40.630479Z"
        },
        "id": "394f014b",
        "outputId": "e2b3ce9b-4e34-4ed4-9519-db1831168388"
      },
      "outputs": [
        {
          "data": {
            "text/plain": [
              "'Race Highlights | 2022 British Grand Prix'"
            ]
          },
          "execution_count": 21,
          "metadata": {},
          "output_type": "execute_result"
        }
      ],
      "source": [
        "data[data.video_id == 'bM6ren2tPU8'].iloc[0].title"
      ]
    },
    {
      "cell_type": "markdown",
      "id": "c01338a6",
      "metadata": {
        "id": "c01338a6"
      },
      "source": [
        "What is the maximum number of views (`view_count` column) for videos released in France or Italy (`'FR'` or `'IT'` in the `country` column) in July (`publishedAt` column)?\n",
        "\n",
        "- https://pandas.pydata.org/pandas-docs/stable/reference/api/pandas.DataFrame.isin.html"
      ]
    },
    {
      "cell_type": "code",
      "execution_count": 27,
      "id": "3a4cf973",
      "metadata": {
        "ExecuteTime": {
          "end_time": "2024-02-06T07:52:40.803555Z",
          "start_time": "2024-02-06T07:52:40.795425Z"
        },
        "id": "3a4cf973",
        "outputId": "0b33d3f0-a286-4bf6-a373-ad278aa1d051"
      },
      "outputs": [
        {
          "data": {
            "text/plain": [
              "82864422"
            ]
          },
          "execution_count": 27,
          "metadata": {},
          "output_type": "execute_result"
        }
      ],
      "source": [
        "data[(data.country.isin(['IT', 'FR']) & (data.publishedAt.dt.month == 7))].view_count.max()"
      ]
    },
    {
      "cell_type": "markdown",
      "id": "c545bc21",
      "metadata": {
        "id": "c545bc21"
      },
      "source": [
        "Look at the channel names from category $17$. What category do you think this is?"
      ]
    },
    {
      "cell_type": "code",
      "execution_count": 28,
      "id": "75cee13f",
      "metadata": {
        "ExecuteTime": {
          "end_time": "2024-02-06T07:52:40.968683Z",
          "start_time": "2024-02-06T07:52:40.961808Z"
        },
        "id": "75cee13f",
        "outputId": "2e294ea1-8dd2-47be-efb3-6a51126a413f"
      },
      "outputs": [
        {
          "data": {
            "text/plain": [
              "array(['Omar Raja - ESPN', 'FORMULA 1', 'Dude Perfect', 'TyC Sports',\n",
              "       'SportsNation', 'DJOTAFREESTYLE', 'Sport Klub', 'Wimbledon',\n",
              "       'B/R Football', 'Madney', 'KarpouziFetaGaming', 'Windies Cricket',\n",
              "       'FenerbahÃ§e SK', 'King Bet', 'FreeDawkins',\n",
              "       'Ù\\x85Ø\\xadÙ\\x85Ø¯ Ø¹Ø¯Ù\\x86Ø§Ù\\x86 Mohamad Adnan', 'BROZ',\n",
              "       'CAF TV', 'Kora Plus', 'FIBA - The Basketball Channel',\n",
              "       'Mejora Tu Padel', 'Real Betis BalompiÃ©', 'Eurosport France',\n",
              "       'FC Barcelona', 'CONMEBOL Libertadores', 'ESPN Deportes',\n",
              "       'DoctorePoLLo', 'France Rugby', 'THE GOAT MMA BOXING',\n",
              "       'Juju Fitcats', 'Pierre SORIOT', 'All Blacks', 'Irish Rugby TV',\n",
              "       'VINSKY', 'Wide World of Sports', 'Arsenal',\n",
              "       'FIA World Endurance Championship', 'KaratÃ© Bushido Officiel',\n",
              "       'Eric Flag', 'Justine GALLICE Fitness', 'beIN SPORTS France',\n",
              "       'Riding Zone', 'Tour de France', 'Foot Mercato',\n",
              "       'Stade Rennais F.C. - Officiel', 'Marius Chasse', 'VAL FOOT',\n",
              "       'Wiloo', 'PSG - Paris Saint-Germain', 'Betarades.gr', 'Inter',\n",
              "       'Juventus', 'AS Roma', 'CalcioNapoli24', 'Gli Autogol', 'EsteNews',\n",
              "       'BeNv3', 'Thiago Productions', 'Sky Sport', 'WWE', 'MFM Sport',\n",
              "       'Elbotola', 'England & Wales Cricket Board', 'The United Stand',\n",
              "       'Manchester United', 'UFC - Ultimate Fighting Championship',\n",
              "       'AC Milan', 'Eurosport', 'ITV Sport', 'GCN Racing',\n",
              "       'JxmyHighroller', 'Elheddaf TV Compte', 'beIN SPORTS TÃ¼rkiye',\n",
              "       'Karakullukcu', 'SansÃ¼rsÃ¼z Futbol', 'BeÅ\\x9fiktaÅ\\x9f JK',\n",
              "       'S Sport'], dtype=object)"
            ]
          },
          "execution_count": 28,
          "metadata": {},
          "output_type": "execute_result"
        }
      ],
      "source": [
        "data[data.categoryId == 17].channelTitle.unique()"
      ]
    },
    {
      "cell_type": "markdown",
      "id": "ac5779c9",
      "metadata": {
        "id": "ac5779c9"
      },
      "source": [
        "Let's assume that a mistake was made, and all videos from category $17$ belong to category $16$. Correct the necessary values in the `categoryId` column, and then display all unique categories.\n",
        "\n",
        "Note that when you select fields using the `[]` indexing operator, a copy of the selected values is returned. If you try to assign new values for some table fields in this way, a warning will be issued. A more reliable way is to use the `.loc` and `.iloc` operators. You can read more about indexing and row selection [here](https://pandas.pydata.org/pandas-docs/stable/user_guide/indexing.html)."
      ]
    },
    {
      "cell_type": "code",
      "execution_count": 29,
      "id": "8702f030",
      "metadata": {
        "ExecuteTime": {
          "end_time": "2024-02-06T07:52:41.132574Z",
          "start_time": "2024-02-06T07:52:41.129004Z"
        },
        "id": "8702f030"
      },
      "outputs": [],
      "source": [
        "data.loc[data.categoryId == 17, 'categoryId'] = 16"
      ]
    },
    {
      "cell_type": "code",
      "execution_count": 30,
      "id": "647c5358",
      "metadata": {
        "ExecuteTime": {
          "end_time": "2024-02-06T07:52:41.217959Z",
          "start_time": "2024-02-06T07:52:41.212965Z"
        },
        "id": "647c5358",
        "outputId": "f8b5a307-b133-4ef3-ade7-37c850cc2051"
      },
      "outputs": [
        {
          "data": {
            "text/plain": [
              "array([24, 10,  1, 15, 22, 23, 27, 16, 20, 26, 25,  2, 19, 28])"
            ]
          },
          "execution_count": 30,
          "metadata": {},
          "output_type": "execute_result"
        }
      ],
      "source": [
        "data.categoryId.unique()"
      ]
    },
    {
      "cell_type": "markdown",
      "id": "c955af69",
      "metadata": {
        "id": "c955af69"
      },
      "source": [
        "Now for `tags` column:\n",
        "\n",
        "Replace lines with the value `'[none]'` with the empty string:"
      ]
    },
    {
      "cell_type": "code",
      "execution_count": 31,
      "id": "5d087490",
      "metadata": {
        "ExecuteTime": {
          "end_time": "2024-02-06T07:52:41.388717Z",
          "start_time": "2024-02-06T07:52:41.381017Z"
        },
        "id": "5d087490"
      },
      "outputs": [],
      "source": [
        "data['tags'] = data['tags'].str.replace('none', '')"
      ]
    },
    {
      "cell_type": "markdown",
      "id": "7a564e57",
      "metadata": {
        "id": "7a564e57"
      },
      "source": [
        "Pre-process the tags - remove extra spaces, convert to lower case:"
      ]
    },
    {
      "cell_type": "code",
      "execution_count": 32,
      "id": "dc778506",
      "metadata": {
        "ExecuteTime": {
          "end_time": "2024-02-06T07:52:41.561314Z",
          "start_time": "2024-02-06T07:52:41.547025Z"
        },
        "id": "dc778506"
      },
      "outputs": [],
      "source": [
        "data['tags'] = data['tags'].str.strip()\n",
        "data['tags'] = data['tags'].str.lower()"
      ]
    },
    {
      "cell_type": "markdown",
      "id": "30bfa5cf",
      "metadata": {
        "id": "30bfa5cf"
      },
      "source": [
        "What is the most popular tag? Please note that each video can have more than $1$ tag\n",
        "\n",
        "- https://pandas.pydata.org/pandas-docs/stable/reference/api/pandas.DataFrame.explode.html"
      ]
    },
    {
      "cell_type": "code",
      "execution_count": 33,
      "id": "ed60dffd",
      "metadata": {
        "ExecuteTime": {
          "end_time": "2024-02-06T07:52:41.798367Z",
          "start_time": "2024-02-06T07:52:41.715164Z"
        },
        "id": "ed60dffd",
        "outputId": "4acaa772-c010-4679-d8f9-cf0e78f6fbd1"
      },
      "outputs": [
        {
          "data": {
            "text/plain": [
              "tags\n",
              "[]                                   586\n",
              "challenge                            133\n",
              "øªø­ø¯ù                             127\n",
              "øªø­ø¯ùø§øª                         124\n",
              "minecraft                             74\n",
              "                                    ... \n",
              "league                                 1\n",
              "star guardian                          1\n",
              "star guardian 2022                     1\n",
              "star guardian cinematic                1\n",
              "tozluyaka 2. bã¶lã¼m 2. fragmanä±      1\n",
              "Name: count, Length: 18310, dtype: int64"
            ]
          },
          "execution_count": 33,
          "metadata": {},
          "output_type": "execute_result"
        }
      ],
      "source": [
        "data['tags'] = data['tags'].str.split(\"|\")\n",
        "data.explode('tags')['tags'].value_counts()"
      ]
    },
    {
      "cell_type": "markdown",
      "id": "90f2756f",
      "metadata": {
        "id": "90f2756f"
      },
      "source": [
        "#### `Visual analysis`"
      ]
    },
    {
      "cell_type": "markdown",
      "id": "163528e9",
      "metadata": {
        "id": "163528e9"
      },
      "source": [
        "Sometimes visual analysis can be more clear that textual analysis. Pandas provide some methods to simplify plots creation and visualization."
      ]
    },
    {
      "cell_type": "markdown",
      "id": "966e205a",
      "metadata": {
        "ExecuteTime": {
          "end_time": "2024-02-06T07:43:50.288052Z",
          "start_time": "2024-02-06T07:43:50.277641Z"
        },
        "id": "966e205a"
      },
      "source": [
        "We can create simple line plots using `.plot` method:\n",
        "\n",
        "Build a line plot of the number of videos released versus the date of publication:"
      ]
    },
    {
      "cell_type": "code",
      "execution_count": 36,
      "id": "3100be8f",
      "metadata": {
        "ExecuteTime": {
          "end_time": "2024-02-06T07:52:42.347404Z",
          "start_time": "2024-02-06T07:52:42.051904Z"
        },
        "id": "3100be8f",
        "outputId": "4dbf1f79-0065-42f1-81c7-4adbcdf00f82"
      },
      "outputs": [
        {
          "data": {
            "image/png": "[encoded data removed]",
            "text/plain": [
              "<Figure size 1000x500 with 1 Axes>"
            ]
          },
          "metadata": {},
          "output_type": "display_data"
        }
      ],
      "source": [
        "import matplotlib.pyplot as plt\n",
        "df = data.groupby('video_id').publishedAt.first().reset_index()\n",
        "df = df.publishedAt.dt.date.value_counts().sort_index(ascending=False)\n",
        "\n",
        "plt.figure(figsize=(10,5))\n",
        "plt.title('Number of released videos')\n",
        "\n",
        "df.plot(marker='.')\n",
        "\n",
        "plt.xticks(rotation=45)\n",
        "plt.xlabel('Publication date')\n",
        "plt.ylabel('Number of videos')\n",
        "plt.grid(True)\n",
        "plt.show()"
      ]
    },
    {
      "cell_type": "markdown",
      "id": "f74bcf7e",
      "metadata": {
        "ExecuteTime": {
          "end_time": "2024-02-06T07:47:03.246403Z",
          "start_time": "2024-02-06T07:47:03.238312Z"
        },
        "id": "f74bcf7e"
      },
      "source": [
        "Similarly bar plots are obtained by `.bar` method.\n",
        "\n",
        "Build a bar plot of the number of published videos depending on the country:"
      ]
    },
    {
      "cell_type": "code",
      "execution_count": 37,
      "id": "b2d0c977",
      "metadata": {
        "ExecuteTime": {
          "end_time": "2024-02-06T07:52:42.641932Z",
          "start_time": "2024-02-06T07:52:42.351755Z"
        },
        "id": "b2d0c977",
        "outputId": "a0932395-6de6-4f10-f59e-7bf7a0d8a0ad"
      },
      "outputs": [
        {
          "data": {
            "image/png": "[encoded data removed]",
            "text/plain": [
              "<Figure size 900x400 with 1 Axes>"
            ]
          },
          "metadata": {},
          "output_type": "display_data"
        }
      ],
      "source": [
        "df = data.country.value_counts()\n",
        "\n",
        "\n",
        "plt.figure(figsize=(9,4))\n",
        "plt.title('Number of released videos')\n",
        "\n",
        "plt.bar(df.index, df.values)\n",
        "plt.xticks(rotation=45)\n",
        "\n",
        "plt.xlabel('Country')\n",
        "plt.ylabel('Number of videos')\n",
        "plt.show()"
      ]
    },
    {
      "cell_type": "markdown",
      "id": "69e7ee08",
      "metadata": {
        "id": "69e7ee08"
      },
      "source": [
        "Finally, we can create scatter plot using `.scatter` method.\n",
        "\n",
        "Build a scatter plot depending on the number of comments for a video and on the number of views for videos in France. The chart does not need to take into account videos with disabled comments (`comments_disabled=True`):"
      ]
    },
    {
      "cell_type": "code",
      "execution_count": 38,
      "id": "21c6112e",
      "metadata": {
        "ExecuteTime": {
          "end_time": "2024-02-06T07:52:42.848201Z",
          "start_time": "2024-02-06T07:52:42.646060Z"
        },
        "id": "21c6112e",
        "outputId": "482d2ad7-3d69-41d6-ba83-c82730c0485e"
      },
      "outputs": [
        {
          "data": {
            "image/png": "[encoded data removed]",
            "text/plain": [
              "<Figure size 900x600 with 1 Axes>"
            ]
          },
          "metadata": {},
          "output_type": "display_data"
        }
      ],
      "source": [
        "df = data[data.comments_disabled == False].copy()\n",
        "df = df[df.country == 'FR']\n",
        "\n",
        "plt.figure(figsize=(9,6))\n",
        "plt.title('Dependence of the number of comments vs the number of views')\n",
        "\n",
        "plt.scatter(df.comment_count, df.view_count)\n",
        "\n",
        "plt.xlabel('Number of views')\n",
        "plt.ylabel('Number of comments')\n",
        "plt.grid(True)\n",
        "plt.show()"
      ]
    },
    {
      "cell_type": "markdown",
      "id": "yr1qAUp6QpR2",
      "metadata": {
        "id": "yr1qAUp6QpR2"
      },
      "source": [
        "Rules:\n",
        "\n",
        "1. The use of AI and any other violation mentioned in the Academic Integrity Policy is strictly prohibited , for more info please refer to the Academic Integrity Policy of Constructor University: https://constructor.university/sites/default/files/2024-09/CAI%202024%20vf.pdf\n",
        "If a student work violates these rule, the work will be disregarded, 0 points will be granted and the Academic Integrity team might be informed.\n",
        "\n",
        "2. Students are not allowed to copy and paste examples described in the lab, if an example contains several lines of code and implements non-trivial idea. Please, write the code by your own. Violation of this rule will result in points being deducted. Even at theoretical answers, copy-paste will not be tolerated, use own words to improve critical thinking."
      ]
    }
  ],
  "metadata": {
    "colab": {
      "provenance": []
    },
    "kernelspec": {
      "display_name": "Python 3 (ipykernel)",
      "language": "python",
      "name": "python3"
    },
    "language_info": {
      "codemirror_mode": {
        "name": "ipython",
        "version": 3
      },
      "file_extension": ".py",
      "mimetype": "text/x-python",
      "name": "python",
      "nbconvert_exporter": "python",
      "pygments_lexer": "ipython3",
      "version": "3.12.7"
    }
  },
  "nbformat": 4,
  "nbformat_minor": 5
}
